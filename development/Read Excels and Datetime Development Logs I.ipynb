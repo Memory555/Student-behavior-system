{
 "cells": [
  {
   "cell_type": "markdown",
   "id": "61691225",
   "metadata": {},
   "source": [
    "# 1. 加载考勤设置所需要的excel表格"
   ]
  },
  {
   "cell_type": "code",
   "execution_count": 134,
   "id": "2150d972",
   "metadata": {},
   "outputs": [],
   "source": [
    "import pandas as pd\n",
    "import numpy as np"
   ]
  },
  {
   "cell_type": "code",
   "execution_count": 106,
   "id": "af17f62e",
   "metadata": {},
   "outputs": [],
   "source": [
    "rootdir = 'D:/Github/Face-Recognition-Class-Attendance-System/'\n",
    "\n",
    "filenames = ['Auxiliary_Info.xlsx', \n",
    "             'Classroom_Course_Schedule.xlsx',\n",
    "             'Classroom_Info.xlsx', \n",
    "             'College_Class_Info.xlsx', \n",
    "             'Attendance_Logs.xlsx']"
   ]
  },
  {
   "cell_type": "code",
   "execution_count": 396,
   "id": "2508a8cf",
   "metadata": {},
   "outputs": [],
   "source": [
    "# 根据当前周，选择教室对应的课表安排，read_excel中第一周的索引为0\n",
    "current_teach_week = 12 # 第13周\n",
    "\n",
    "au_info = pd.read_excel(rootdir + filenames[0])\n",
    "room_table = pd.read_excel(rootdir + filenames[1], sheet_name=current_teach_week)\n",
    "room_info = pd.read_excel(rootdir + filenames[2], sheet_name=0)\n",
    "college_class_info = pd.read_excel(rootdir + filenames[3], sheet_name=0)\n",
    "attendance_logs = pd.read_excel(rootdir + filenames[4], sheet_name=0)"
   ]
  },
  {
   "cell_type": "code",
   "execution_count": 397,
   "id": "a0e30930",
   "metadata": {
    "scrolled": true
   },
   "outputs": [
    {
     "data": {
      "text/html": [
       "<div>\n",
       "<style scoped>\n",
       "    .dataframe tbody tr th:only-of-type {\n",
       "        vertical-align: middle;\n",
       "    }\n",
       "\n",
       "    .dataframe tbody tr th {\n",
       "        vertical-align: top;\n",
       "    }\n",
       "\n",
       "    .dataframe thead th {\n",
       "        text-align: right;\n",
       "    }\n",
       "</style>\n",
       "<table border=\"1\" class=\"dataframe\">\n",
       "  <thead>\n",
       "    <tr style=\"text-align: right;\">\n",
       "      <th></th>\n",
       "      <th>Semester Start Week</th>\n",
       "      <th>Holiday Date</th>\n",
       "      <th>Attendance period Start</th>\n",
       "      <th>Attendance period End</th>\n",
       "      <th>Attendance period Description</th>\n",
       "      <th>Make up lessons ID</th>\n",
       "      <th>Original lessons Date</th>\n",
       "      <th>Make up lessons Date</th>\n",
       "      <th>Make up lessons Week</th>\n",
       "      <th>Make up lessons Weekday</th>\n",
       "      <th>Make up lessons Schedule</th>\n",
       "      <th>Make up lessons Description</th>\n",
       "    </tr>\n",
       "  </thead>\n",
       "  <tbody>\n",
       "    <tr>\n",
       "      <th>0</th>\n",
       "      <td>2021-03-01</td>\n",
       "      <td>2021-05-01</td>\n",
       "      <td>07:00:00</td>\n",
       "      <td>08:30:00</td>\n",
       "      <td>上午第1节课前一小时内考勤均认为正常考勤，可以按照自己的逻辑修改。</td>\n",
       "      <td>ML2020001</td>\n",
       "      <td>2021-03-15</td>\n",
       "      <td>2021-05-28</td>\n",
       "      <td>13.0</td>\n",
       "      <td>Fri</td>\n",
       "      <td>1--2</td>\n",
       "      <td>补课日期，补第几周的课，补周几的课，补第几节课</td>\n",
       "    </tr>\n",
       "    <tr>\n",
       "      <th>1</th>\n",
       "      <td>NaT</td>\n",
       "      <td>2021-05-02</td>\n",
       "      <td>10:05:00</td>\n",
       "      <td>10:25:00</td>\n",
       "      <td>上午1-2节下课到第3节课上课之间的时间被认为正常考勤。</td>\n",
       "      <td>DL2020001</td>\n",
       "      <td>2021-03-22</td>\n",
       "      <td>2021-05-24</td>\n",
       "      <td>13.0</td>\n",
       "      <td>Mon</td>\n",
       "      <td>3--4</td>\n",
       "      <td>NaN</td>\n",
       "    </tr>\n",
       "    <tr>\n",
       "      <th>2</th>\n",
       "      <td>NaT</td>\n",
       "      <td>2021-05-03</td>\n",
       "      <td>13:00:00</td>\n",
       "      <td>14:00:00</td>\n",
       "      <td>下午第1节课前一小时内考勤均认为正常考勤，可以按照自己的逻辑修改。</td>\n",
       "      <td>CV2020001</td>\n",
       "      <td>2021-05-24</td>\n",
       "      <td>2021-05-28</td>\n",
       "      <td>13.0</td>\n",
       "      <td>Fri</td>\n",
       "      <td>5--6</td>\n",
       "      <td>NaN</td>\n",
       "    </tr>\n",
       "    <tr>\n",
       "      <th>3</th>\n",
       "      <td>NaT</td>\n",
       "      <td>2021-05-04</td>\n",
       "      <td>15:35:00</td>\n",
       "      <td>15:55:00</td>\n",
       "      <td>下午1-2节下课到第3节课上课之间的时间被认为正常考勤。</td>\n",
       "      <td>NaN</td>\n",
       "      <td>NaT</td>\n",
       "      <td>NaT</td>\n",
       "      <td>NaN</td>\n",
       "      <td>NaN</td>\n",
       "      <td>NaN</td>\n",
       "      <td>NaN</td>\n",
       "    </tr>\n",
       "    <tr>\n",
       "      <th>4</th>\n",
       "      <td>NaT</td>\n",
       "      <td>2021-05-05</td>\n",
       "      <td>17:30:00</td>\n",
       "      <td>18:00:00</td>\n",
       "      <td>下午3-4节下课到晚上第1节课上课之间的时间被认为正常考勤。</td>\n",
       "      <td>NaN</td>\n",
       "      <td>NaT</td>\n",
       "      <td>NaT</td>\n",
       "      <td>NaN</td>\n",
       "      <td>NaN</td>\n",
       "      <td>NaN</td>\n",
       "      <td>NaN</td>\n",
       "    </tr>\n",
       "    <tr>\n",
       "      <th>5</th>\n",
       "      <td>NaT</td>\n",
       "      <td>NaT</td>\n",
       "      <td>19:35:00</td>\n",
       "      <td>19:55:00</td>\n",
       "      <td>晚上1-2节课下课到第3节课上课之间的时间被认为正常考勤。</td>\n",
       "      <td>NaN</td>\n",
       "      <td>NaT</td>\n",
       "      <td>NaT</td>\n",
       "      <td>NaN</td>\n",
       "      <td>NaN</td>\n",
       "      <td>NaN</td>\n",
       "      <td>NaN</td>\n",
       "    </tr>\n",
       "  </tbody>\n",
       "</table>\n",
       "</div>"
      ],
      "text/plain": [
       "  Semester Start Week Holiday Date Attendance period Start  \\\n",
       "0          2021-03-01   2021-05-01                07:00:00   \n",
       "1                 NaT   2021-05-02                10:05:00   \n",
       "2                 NaT   2021-05-03                13:00:00   \n",
       "3                 NaT   2021-05-04                15:35:00   \n",
       "4                 NaT   2021-05-05                17:30:00   \n",
       "5                 NaT          NaT                19:35:00   \n",
       "\n",
       "  Attendance period End      Attendance period Description Make up lessons ID  \\\n",
       "0              08:30:00  上午第1节课前一小时内考勤均认为正常考勤，可以按照自己的逻辑修改。          ML2020001   \n",
       "1              10:25:00       上午1-2节下课到第3节课上课之间的时间被认为正常考勤。          DL2020001   \n",
       "2              14:00:00  下午第1节课前一小时内考勤均认为正常考勤，可以按照自己的逻辑修改。          CV2020001   \n",
       "3              15:55:00       下午1-2节下课到第3节课上课之间的时间被认为正常考勤。                NaN   \n",
       "4              18:00:00     下午3-4节下课到晚上第1节课上课之间的时间被认为正常考勤。                NaN   \n",
       "5              19:55:00      晚上1-2节课下课到第3节课上课之间的时间被认为正常考勤。                NaN   \n",
       "\n",
       "  Original lessons Date Make up lessons Date  Make up lessons Week  \\\n",
       "0            2021-03-15           2021-05-28                  13.0   \n",
       "1            2021-03-22           2021-05-24                  13.0   \n",
       "2            2021-05-24           2021-05-28                  13.0   \n",
       "3                   NaT                  NaT                   NaN   \n",
       "4                   NaT                  NaT                   NaN   \n",
       "5                   NaT                  NaT                   NaN   \n",
       "\n",
       "  Make up lessons Weekday Make up lessons Schedule Make up lessons Description  \n",
       "0                     Fri                     1--2     补课日期，补第几周的课，补周几的课，补第几节课  \n",
       "1                     Mon                     3--4                         NaN  \n",
       "2                     Fri                     5--6                         NaN  \n",
       "3                     NaN                      NaN                         NaN  \n",
       "4                     NaN                      NaN                         NaN  \n",
       "5                     NaN                      NaN                         NaN  "
      ]
     },
     "execution_count": 397,
     "metadata": {},
     "output_type": "execute_result"
    }
   ],
   "source": [
    "# NaT 是Pandas中时间戳的NAN值\n",
    "au_info"
   ]
  },
  {
   "cell_type": "code",
   "execution_count": 183,
   "id": "45b36806",
   "metadata": {},
   "outputs": [
    {
     "data": {
      "text/plain": [
       "Index(['Semester Start Week', 'Holiday Date', 'Attendance period Start',\n",
       "       'Attendance period End', 'Attendance period Description',\n",
       "       'Make up lessons ID', 'Original lessons Date', 'Make up lessons Date',\n",
       "       'Make up lessons Week', 'Make up lessons Weekday',\n",
       "       'Make up lessons Description'],\n",
       "      dtype='object')"
      ]
     },
     "execution_count": 183,
     "metadata": {},
     "output_type": "execute_result"
    }
   ],
   "source": [
    "au_info.columns"
   ]
  },
  {
   "cell_type": "code",
   "execution_count": 184,
   "id": "8292a91c",
   "metadata": {},
   "outputs": [
    {
     "data": {
      "text/html": [
       "<div>\n",
       "<style scoped>\n",
       "    .dataframe tbody tr th:only-of-type {\n",
       "        vertical-align: middle;\n",
       "    }\n",
       "\n",
       "    .dataframe tbody tr th {\n",
       "        vertical-align: top;\n",
       "    }\n",
       "\n",
       "    .dataframe thead th {\n",
       "        text-align: right;\n",
       "    }\n",
       "</style>\n",
       "<table border=\"1\" class=\"dataframe\">\n",
       "  <thead>\n",
       "    <tr style=\"text-align: right;\">\n",
       "      <th></th>\n",
       "      <th>Building</th>\n",
       "      <th>Classroom</th>\n",
       "      <th>Seating Capacity</th>\n",
       "    </tr>\n",
       "  </thead>\n",
       "  <tbody>\n",
       "    <tr>\n",
       "      <th>0</th>\n",
       "      <td>A</td>\n",
       "      <td>101</td>\n",
       "      <td>300</td>\n",
       "    </tr>\n",
       "    <tr>\n",
       "      <th>1</th>\n",
       "      <td>A</td>\n",
       "      <td>102</td>\n",
       "      <td>300</td>\n",
       "    </tr>\n",
       "    <tr>\n",
       "      <th>2</th>\n",
       "      <td>A</td>\n",
       "      <td>103</td>\n",
       "      <td>300</td>\n",
       "    </tr>\n",
       "    <tr>\n",
       "      <th>3</th>\n",
       "      <td>A</td>\n",
       "      <td>104</td>\n",
       "      <td>300</td>\n",
       "    </tr>\n",
       "    <tr>\n",
       "      <th>4</th>\n",
       "      <td>A</td>\n",
       "      <td>105</td>\n",
       "      <td>300</td>\n",
       "    </tr>\n",
       "  </tbody>\n",
       "</table>\n",
       "</div>"
      ],
      "text/plain": [
       "  Building  Classroom  Seating Capacity\n",
       "0        A        101               300\n",
       "1        A        102               300\n",
       "2        A        103               300\n",
       "3        A        104               300\n",
       "4        A        105               300"
      ]
     },
     "execution_count": 184,
     "metadata": {},
     "output_type": "execute_result"
    }
   ],
   "source": [
    "room_info"
   ]
  },
  {
   "cell_type": "code",
   "execution_count": 109,
   "id": "cdb9cc53",
   "metadata": {},
   "outputs": [
    {
     "data": {
      "text/html": [
       "<div>\n",
       "<style scoped>\n",
       "    .dataframe tbody tr th:only-of-type {\n",
       "        vertical-align: middle;\n",
       "    }\n",
       "\n",
       "    .dataframe tbody tr th {\n",
       "        vertical-align: top;\n",
       "    }\n",
       "\n",
       "    .dataframe thead th {\n",
       "        text-align: right;\n",
       "    }\n",
       "</style>\n",
       "<table border=\"1\" class=\"dataframe\">\n",
       "  <thead>\n",
       "    <tr style=\"text-align: right;\">\n",
       "      <th></th>\n",
       "      <th>Academics</th>\n",
       "      <th>Grade</th>\n",
       "      <th>Class</th>\n",
       "      <th>Students</th>\n",
       "    </tr>\n",
       "  </thead>\n",
       "  <tbody>\n",
       "    <tr>\n",
       "      <th>0</th>\n",
       "      <td>School of Artificial Intelligence</td>\n",
       "      <td>2018</td>\n",
       "      <td>2018001</td>\n",
       "      <td>120</td>\n",
       "    </tr>\n",
       "    <tr>\n",
       "      <th>1</th>\n",
       "      <td>School of Artificial Intelligence</td>\n",
       "      <td>2018</td>\n",
       "      <td>2018002</td>\n",
       "      <td>120</td>\n",
       "    </tr>\n",
       "    <tr>\n",
       "      <th>2</th>\n",
       "      <td>School of Artificial Intelligence</td>\n",
       "      <td>2018</td>\n",
       "      <td>2018003</td>\n",
       "      <td>120</td>\n",
       "    </tr>\n",
       "    <tr>\n",
       "      <th>3</th>\n",
       "      <td>School of Artificial Intelligence</td>\n",
       "      <td>2018</td>\n",
       "      <td>2018004</td>\n",
       "      <td>120</td>\n",
       "    </tr>\n",
       "  </tbody>\n",
       "</table>\n",
       "</div>"
      ],
      "text/plain": [
       "                           Academics  Grade    Class  Students\n",
       "0  School of Artificial Intelligence   2018  2018001       120\n",
       "1  School of Artificial Intelligence   2018  2018002       120\n",
       "2  School of Artificial Intelligence   2018  2018003       120\n",
       "3  School of Artificial Intelligence   2018  2018004       120"
      ]
     },
     "execution_count": 109,
     "metadata": {},
     "output_type": "execute_result"
    }
   ],
   "source": [
    "college_class_info"
   ]
  },
  {
   "cell_type": "code",
   "execution_count": 110,
   "id": "2117846a",
   "metadata": {},
   "outputs": [
    {
     "data": {
      "text/html": [
       "<div>\n",
       "<style scoped>\n",
       "    .dataframe tbody tr th:only-of-type {\n",
       "        vertical-align: middle;\n",
       "    }\n",
       "\n",
       "    .dataframe tbody tr th {\n",
       "        vertical-align: top;\n",
       "    }\n",
       "\n",
       "    .dataframe thead th {\n",
       "        text-align: right;\n",
       "    }\n",
       "</style>\n",
       "<table border=\"1\" class=\"dataframe\">\n",
       "  <thead>\n",
       "    <tr style=\"text-align: right;\">\n",
       "      <th></th>\n",
       "      <th>ID</th>\n",
       "      <th>Name</th>\n",
       "      <th>Academic</th>\n",
       "      <th>Course</th>\n",
       "      <th>Time</th>\n",
       "      <th>State</th>\n",
       "      <th>Description</th>\n",
       "    </tr>\n",
       "  </thead>\n",
       "  <tbody>\n",
       "    <tr>\n",
       "      <th>0</th>\n",
       "      <td>NaN</td>\n",
       "      <td>NaN</td>\n",
       "      <td>NaN</td>\n",
       "      <td>NaN</td>\n",
       "      <td>NaN</td>\n",
       "      <td>正常</td>\n",
       "      <td>NaN</td>\n",
       "    </tr>\n",
       "    <tr>\n",
       "      <th>1</th>\n",
       "      <td>NaN</td>\n",
       "      <td>NaN</td>\n",
       "      <td>NaN</td>\n",
       "      <td>NaN</td>\n",
       "      <td>NaN</td>\n",
       "      <td>迟到</td>\n",
       "      <td>NaN</td>\n",
       "    </tr>\n",
       "    <tr>\n",
       "      <th>2</th>\n",
       "      <td>NaN</td>\n",
       "      <td>NaN</td>\n",
       "      <td>NaN</td>\n",
       "      <td>NaN</td>\n",
       "      <td>NaN</td>\n",
       "      <td>旷课</td>\n",
       "      <td>NaN</td>\n",
       "    </tr>\n",
       "    <tr>\n",
       "      <th>3</th>\n",
       "      <td>NaN</td>\n",
       "      <td>NaN</td>\n",
       "      <td>NaN</td>\n",
       "      <td>NaN</td>\n",
       "      <td>NaN</td>\n",
       "      <td>请假</td>\n",
       "      <td>NaN</td>\n",
       "    </tr>\n",
       "  </tbody>\n",
       "</table>\n",
       "</div>"
      ],
      "text/plain": [
       "   ID  Name  Academic  Course  Time State  Description\n",
       "0 NaN   NaN       NaN     NaN   NaN    正常          NaN\n",
       "1 NaN   NaN       NaN     NaN   NaN    迟到          NaN\n",
       "2 NaN   NaN       NaN     NaN   NaN    旷课          NaN\n",
       "3 NaN   NaN       NaN     NaN   NaN    请假          NaN"
      ]
     },
     "execution_count": 110,
     "metadata": {},
     "output_type": "execute_result"
    }
   ],
   "source": [
    "attendance_logs"
   ]
  },
  {
   "cell_type": "code",
   "execution_count": 394,
   "id": "8343375d",
   "metadata": {
    "scrolled": true
   },
   "outputs": [
    {
     "data": {
      "text/html": [
       "<div>\n",
       "<style scoped>\n",
       "    .dataframe tbody tr th:only-of-type {\n",
       "        vertical-align: middle;\n",
       "    }\n",
       "\n",
       "    .dataframe tbody tr th {\n",
       "        vertical-align: top;\n",
       "    }\n",
       "\n",
       "    .dataframe thead th {\n",
       "        text-align: right;\n",
       "    }\n",
       "</style>\n",
       "<table border=\"1\" class=\"dataframe\">\n",
       "  <thead>\n",
       "    <tr style=\"text-align: right;\">\n",
       "      <th></th>\n",
       "      <th>Building</th>\n",
       "      <th>Classroom</th>\n",
       "      <th>Schedule</th>\n",
       "      <th>Time Start</th>\n",
       "      <th>Time End</th>\n",
       "      <th>Course Class ID</th>\n",
       "      <th>Course Name</th>\n",
       "      <th>Class week</th>\n",
       "      <th>Current Week</th>\n",
       "      <th>Weekday</th>\n",
       "    </tr>\n",
       "  </thead>\n",
       "  <tbody>\n",
       "    <tr>\n",
       "      <th>0</th>\n",
       "      <td>A</td>\n",
       "      <td>101</td>\n",
       "      <td>1-2节</td>\n",
       "      <td>08:30:00</td>\n",
       "      <td>10:05:00</td>\n",
       "      <td>ML2020001</td>\n",
       "      <td>Machine Learning</td>\n",
       "      <td>01--08, 10--17</td>\n",
       "      <td>13</td>\n",
       "      <td>Mon</td>\n",
       "    </tr>\n",
       "    <tr>\n",
       "      <th>1</th>\n",
       "      <td>A</td>\n",
       "      <td>101</td>\n",
       "      <td>3-4节</td>\n",
       "      <td>10:25:00</td>\n",
       "      <td>12:00:00</td>\n",
       "      <td>DL2020001</td>\n",
       "      <td>Deep Learning</td>\n",
       "      <td>01--16</td>\n",
       "      <td>13</td>\n",
       "      <td>Mon</td>\n",
       "    </tr>\n",
       "    <tr>\n",
       "      <th>2</th>\n",
       "      <td>A</td>\n",
       "      <td>101</td>\n",
       "      <td>5-6节</td>\n",
       "      <td>14:00:00</td>\n",
       "      <td>15:35:00</td>\n",
       "      <td>CV2020001</td>\n",
       "      <td>Computer Vision</td>\n",
       "      <td>01--10, 12--15</td>\n",
       "      <td>13</td>\n",
       "      <td>Mon</td>\n",
       "    </tr>\n",
       "    <tr>\n",
       "      <th>3</th>\n",
       "      <td>A</td>\n",
       "      <td>101</td>\n",
       "      <td>7-8节</td>\n",
       "      <td>15:55:00</td>\n",
       "      <td>17:35:00</td>\n",
       "      <td>CI2020001</td>\n",
       "      <td>Computer Intelligence</td>\n",
       "      <td>01--16</td>\n",
       "      <td>13</td>\n",
       "      <td>Mon</td>\n",
       "    </tr>\n",
       "    <tr>\n",
       "      <th>4</th>\n",
       "      <td>A</td>\n",
       "      <td>101</td>\n",
       "      <td>9-10节</td>\n",
       "      <td>18:00:00</td>\n",
       "      <td>19:35:00</td>\n",
       "      <td>DM2020001</td>\n",
       "      <td>Data Mining</td>\n",
       "      <td>01--18</td>\n",
       "      <td>13</td>\n",
       "      <td>Mon</td>\n",
       "    </tr>\n",
       "    <tr>\n",
       "      <th>5</th>\n",
       "      <td>A</td>\n",
       "      <td>101</td>\n",
       "      <td>11-12节</td>\n",
       "      <td>20:00:00</td>\n",
       "      <td>21:35:00</td>\n",
       "      <td>NaN</td>\n",
       "      <td>NaN</td>\n",
       "      <td>NaN</td>\n",
       "      <td>13</td>\n",
       "      <td>Mon</td>\n",
       "    </tr>\n",
       "    <tr>\n",
       "      <th>6</th>\n",
       "      <td>A</td>\n",
       "      <td>101</td>\n",
       "      <td>1-2节</td>\n",
       "      <td>08:30:00</td>\n",
       "      <td>10:05:00</td>\n",
       "      <td>NaN</td>\n",
       "      <td>NaN</td>\n",
       "      <td>NaN</td>\n",
       "      <td>13</td>\n",
       "      <td>Tue</td>\n",
       "    </tr>\n",
       "    <tr>\n",
       "      <th>7</th>\n",
       "      <td>A</td>\n",
       "      <td>101</td>\n",
       "      <td>3-4节</td>\n",
       "      <td>10:25:00</td>\n",
       "      <td>12:00:00</td>\n",
       "      <td>NaN</td>\n",
       "      <td>NaN</td>\n",
       "      <td>NaN</td>\n",
       "      <td>13</td>\n",
       "      <td>Tue</td>\n",
       "    </tr>\n",
       "    <tr>\n",
       "      <th>8</th>\n",
       "      <td>A</td>\n",
       "      <td>101</td>\n",
       "      <td>5-6节</td>\n",
       "      <td>14:00:00</td>\n",
       "      <td>15:35:00</td>\n",
       "      <td>NaN</td>\n",
       "      <td>NaN</td>\n",
       "      <td>NaN</td>\n",
       "      <td>13</td>\n",
       "      <td>Tue</td>\n",
       "    </tr>\n",
       "    <tr>\n",
       "      <th>9</th>\n",
       "      <td>A</td>\n",
       "      <td>101</td>\n",
       "      <td>7-8节</td>\n",
       "      <td>15:55:00</td>\n",
       "      <td>17:35:00</td>\n",
       "      <td>NaN</td>\n",
       "      <td>NaN</td>\n",
       "      <td>NaN</td>\n",
       "      <td>13</td>\n",
       "      <td>Tue</td>\n",
       "    </tr>\n",
       "    <tr>\n",
       "      <th>10</th>\n",
       "      <td>A</td>\n",
       "      <td>101</td>\n",
       "      <td>9-10节</td>\n",
       "      <td>18:00:00</td>\n",
       "      <td>19:35:00</td>\n",
       "      <td>NaN</td>\n",
       "      <td>NaN</td>\n",
       "      <td>NaN</td>\n",
       "      <td>13</td>\n",
       "      <td>Tue</td>\n",
       "    </tr>\n",
       "    <tr>\n",
       "      <th>11</th>\n",
       "      <td>A</td>\n",
       "      <td>101</td>\n",
       "      <td>11-12节</td>\n",
       "      <td>20:00:00</td>\n",
       "      <td>21:35:00</td>\n",
       "      <td>NaN</td>\n",
       "      <td>NaN</td>\n",
       "      <td>NaN</td>\n",
       "      <td>13</td>\n",
       "      <td>Tue</td>\n",
       "    </tr>\n",
       "    <tr>\n",
       "      <th>12</th>\n",
       "      <td>A</td>\n",
       "      <td>101</td>\n",
       "      <td>1-2节</td>\n",
       "      <td>08:30:00</td>\n",
       "      <td>10:05:00</td>\n",
       "      <td>ML2020001</td>\n",
       "      <td>Machine Learning</td>\n",
       "      <td>01--08, 10--17</td>\n",
       "      <td>13</td>\n",
       "      <td>Wed</td>\n",
       "    </tr>\n",
       "    <tr>\n",
       "      <th>13</th>\n",
       "      <td>A</td>\n",
       "      <td>101</td>\n",
       "      <td>3-4节</td>\n",
       "      <td>10:25:00</td>\n",
       "      <td>12:00:00</td>\n",
       "      <td>DL2020001</td>\n",
       "      <td>Deep Learning</td>\n",
       "      <td>01--16</td>\n",
       "      <td>13</td>\n",
       "      <td>Wed</td>\n",
       "    </tr>\n",
       "    <tr>\n",
       "      <th>14</th>\n",
       "      <td>A</td>\n",
       "      <td>101</td>\n",
       "      <td>5-6节</td>\n",
       "      <td>14:00:00</td>\n",
       "      <td>15:35:00</td>\n",
       "      <td>CV2020001</td>\n",
       "      <td>Computer Vision</td>\n",
       "      <td>01--10, 12--15</td>\n",
       "      <td>13</td>\n",
       "      <td>Wed</td>\n",
       "    </tr>\n",
       "    <tr>\n",
       "      <th>15</th>\n",
       "      <td>A</td>\n",
       "      <td>101</td>\n",
       "      <td>7-8节</td>\n",
       "      <td>15:55:00</td>\n",
       "      <td>17:35:00</td>\n",
       "      <td>CI2020001</td>\n",
       "      <td>Computer Intelligence</td>\n",
       "      <td>01--16</td>\n",
       "      <td>13</td>\n",
       "      <td>Wed</td>\n",
       "    </tr>\n",
       "    <tr>\n",
       "      <th>16</th>\n",
       "      <td>A</td>\n",
       "      <td>101</td>\n",
       "      <td>9-10节</td>\n",
       "      <td>18:00:00</td>\n",
       "      <td>19:35:00</td>\n",
       "      <td>DM2020001</td>\n",
       "      <td>Data Mining</td>\n",
       "      <td>01--18</td>\n",
       "      <td>13</td>\n",
       "      <td>Wed</td>\n",
       "    </tr>\n",
       "    <tr>\n",
       "      <th>17</th>\n",
       "      <td>A</td>\n",
       "      <td>101</td>\n",
       "      <td>11-12节</td>\n",
       "      <td>20:00:00</td>\n",
       "      <td>21:35:00</td>\n",
       "      <td>NaN</td>\n",
       "      <td>NaN</td>\n",
       "      <td>NaN</td>\n",
       "      <td>13</td>\n",
       "      <td>Wed</td>\n",
       "    </tr>\n",
       "    <tr>\n",
       "      <th>18</th>\n",
       "      <td>A</td>\n",
       "      <td>101</td>\n",
       "      <td>1-2节</td>\n",
       "      <td>08:30:00</td>\n",
       "      <td>10:05:00</td>\n",
       "      <td>NaN</td>\n",
       "      <td>NaN</td>\n",
       "      <td>NaN</td>\n",
       "      <td>13</td>\n",
       "      <td>Thu</td>\n",
       "    </tr>\n",
       "    <tr>\n",
       "      <th>19</th>\n",
       "      <td>A</td>\n",
       "      <td>101</td>\n",
       "      <td>3-4节</td>\n",
       "      <td>10:25:00</td>\n",
       "      <td>12:00:00</td>\n",
       "      <td>NaN</td>\n",
       "      <td>NaN</td>\n",
       "      <td>NaN</td>\n",
       "      <td>13</td>\n",
       "      <td>Thu</td>\n",
       "    </tr>\n",
       "    <tr>\n",
       "      <th>20</th>\n",
       "      <td>A</td>\n",
       "      <td>101</td>\n",
       "      <td>5-6节</td>\n",
       "      <td>14:00:00</td>\n",
       "      <td>15:35:00</td>\n",
       "      <td>NaN</td>\n",
       "      <td>NaN</td>\n",
       "      <td>NaN</td>\n",
       "      <td>13</td>\n",
       "      <td>Thu</td>\n",
       "    </tr>\n",
       "    <tr>\n",
       "      <th>21</th>\n",
       "      <td>A</td>\n",
       "      <td>101</td>\n",
       "      <td>7-8节</td>\n",
       "      <td>15:55:00</td>\n",
       "      <td>17:35:00</td>\n",
       "      <td>NaN</td>\n",
       "      <td>NaN</td>\n",
       "      <td>NaN</td>\n",
       "      <td>13</td>\n",
       "      <td>Thu</td>\n",
       "    </tr>\n",
       "    <tr>\n",
       "      <th>22</th>\n",
       "      <td>A</td>\n",
       "      <td>101</td>\n",
       "      <td>9-10节</td>\n",
       "      <td>18:00:00</td>\n",
       "      <td>19:35:00</td>\n",
       "      <td>NaN</td>\n",
       "      <td>NaN</td>\n",
       "      <td>NaN</td>\n",
       "      <td>13</td>\n",
       "      <td>Thu</td>\n",
       "    </tr>\n",
       "    <tr>\n",
       "      <th>23</th>\n",
       "      <td>A</td>\n",
       "      <td>101</td>\n",
       "      <td>11-12节</td>\n",
       "      <td>20:00:00</td>\n",
       "      <td>21:35:00</td>\n",
       "      <td>NaN</td>\n",
       "      <td>NaN</td>\n",
       "      <td>NaN</td>\n",
       "      <td>13</td>\n",
       "      <td>Thu</td>\n",
       "    </tr>\n",
       "    <tr>\n",
       "      <th>24</th>\n",
       "      <td>A</td>\n",
       "      <td>101</td>\n",
       "      <td>1-2节</td>\n",
       "      <td>08:30:00</td>\n",
       "      <td>10:05:00</td>\n",
       "      <td>ML2020001</td>\n",
       "      <td>Machine Learning</td>\n",
       "      <td>01--08, 10--17</td>\n",
       "      <td>13</td>\n",
       "      <td>Fri</td>\n",
       "    </tr>\n",
       "    <tr>\n",
       "      <th>25</th>\n",
       "      <td>A</td>\n",
       "      <td>101</td>\n",
       "      <td>3-4节</td>\n",
       "      <td>10:25:00</td>\n",
       "      <td>12:00:00</td>\n",
       "      <td>DL2020001</td>\n",
       "      <td>Deep Learning</td>\n",
       "      <td>01--16</td>\n",
       "      <td>13</td>\n",
       "      <td>Fri</td>\n",
       "    </tr>\n",
       "    <tr>\n",
       "      <th>26</th>\n",
       "      <td>A</td>\n",
       "      <td>101</td>\n",
       "      <td>5-6节</td>\n",
       "      <td>14:00:00</td>\n",
       "      <td>15:35:00</td>\n",
       "      <td>CV2020001</td>\n",
       "      <td>Computer Vision</td>\n",
       "      <td>01--10, 12--15</td>\n",
       "      <td>13</td>\n",
       "      <td>Fri</td>\n",
       "    </tr>\n",
       "    <tr>\n",
       "      <th>27</th>\n",
       "      <td>A</td>\n",
       "      <td>101</td>\n",
       "      <td>7-8节</td>\n",
       "      <td>15:55:00</td>\n",
       "      <td>17:35:00</td>\n",
       "      <td>CI2020001</td>\n",
       "      <td>Computer Intelligence</td>\n",
       "      <td>01--16</td>\n",
       "      <td>13</td>\n",
       "      <td>Fri</td>\n",
       "    </tr>\n",
       "    <tr>\n",
       "      <th>28</th>\n",
       "      <td>A</td>\n",
       "      <td>101</td>\n",
       "      <td>9-10节</td>\n",
       "      <td>18:00:00</td>\n",
       "      <td>19:35:00</td>\n",
       "      <td>DM2020001</td>\n",
       "      <td>Data Mining</td>\n",
       "      <td>01--18</td>\n",
       "      <td>13</td>\n",
       "      <td>Fri</td>\n",
       "    </tr>\n",
       "    <tr>\n",
       "      <th>29</th>\n",
       "      <td>A</td>\n",
       "      <td>101</td>\n",
       "      <td>11-12节</td>\n",
       "      <td>20:00:00</td>\n",
       "      <td>21:35:00</td>\n",
       "      <td>NaN</td>\n",
       "      <td>NaN</td>\n",
       "      <td>NaN</td>\n",
       "      <td>13</td>\n",
       "      <td>Fri</td>\n",
       "    </tr>\n",
       "    <tr>\n",
       "      <th>30</th>\n",
       "      <td>A</td>\n",
       "      <td>101</td>\n",
       "      <td>1-2节</td>\n",
       "      <td>08:30:00</td>\n",
       "      <td>10:05:00</td>\n",
       "      <td>NaN</td>\n",
       "      <td>NaN</td>\n",
       "      <td>NaN</td>\n",
       "      <td>13</td>\n",
       "      <td>Sat</td>\n",
       "    </tr>\n",
       "    <tr>\n",
       "      <th>31</th>\n",
       "      <td>A</td>\n",
       "      <td>101</td>\n",
       "      <td>3-4节</td>\n",
       "      <td>10:25:00</td>\n",
       "      <td>12:00:00</td>\n",
       "      <td>NaN</td>\n",
       "      <td>NaN</td>\n",
       "      <td>NaN</td>\n",
       "      <td>13</td>\n",
       "      <td>Sat</td>\n",
       "    </tr>\n",
       "    <tr>\n",
       "      <th>32</th>\n",
       "      <td>A</td>\n",
       "      <td>101</td>\n",
       "      <td>5-6节</td>\n",
       "      <td>14:00:00</td>\n",
       "      <td>15:35:00</td>\n",
       "      <td>NaN</td>\n",
       "      <td>NaN</td>\n",
       "      <td>NaN</td>\n",
       "      <td>13</td>\n",
       "      <td>Sat</td>\n",
       "    </tr>\n",
       "    <tr>\n",
       "      <th>33</th>\n",
       "      <td>A</td>\n",
       "      <td>101</td>\n",
       "      <td>7-8节</td>\n",
       "      <td>15:55:00</td>\n",
       "      <td>17:35:00</td>\n",
       "      <td>NaN</td>\n",
       "      <td>NaN</td>\n",
       "      <td>NaN</td>\n",
       "      <td>13</td>\n",
       "      <td>Sat</td>\n",
       "    </tr>\n",
       "    <tr>\n",
       "      <th>34</th>\n",
       "      <td>A</td>\n",
       "      <td>101</td>\n",
       "      <td>9-10节</td>\n",
       "      <td>18:00:00</td>\n",
       "      <td>19:35:00</td>\n",
       "      <td>NaN</td>\n",
       "      <td>NaN</td>\n",
       "      <td>NaN</td>\n",
       "      <td>13</td>\n",
       "      <td>Sat</td>\n",
       "    </tr>\n",
       "    <tr>\n",
       "      <th>35</th>\n",
       "      <td>A</td>\n",
       "      <td>101</td>\n",
       "      <td>11-12节</td>\n",
       "      <td>20:00:00</td>\n",
       "      <td>21:35:00</td>\n",
       "      <td>NaN</td>\n",
       "      <td>NaN</td>\n",
       "      <td>NaN</td>\n",
       "      <td>13</td>\n",
       "      <td>Sat</td>\n",
       "    </tr>\n",
       "    <tr>\n",
       "      <th>36</th>\n",
       "      <td>A</td>\n",
       "      <td>101</td>\n",
       "      <td>1-2节</td>\n",
       "      <td>08:30:00</td>\n",
       "      <td>10:05:00</td>\n",
       "      <td>NaN</td>\n",
       "      <td>NaN</td>\n",
       "      <td>NaN</td>\n",
       "      <td>13</td>\n",
       "      <td>Sun</td>\n",
       "    </tr>\n",
       "    <tr>\n",
       "      <th>37</th>\n",
       "      <td>A</td>\n",
       "      <td>101</td>\n",
       "      <td>3-4节</td>\n",
       "      <td>10:25:00</td>\n",
       "      <td>12:00:00</td>\n",
       "      <td>NaN</td>\n",
       "      <td>NaN</td>\n",
       "      <td>NaN</td>\n",
       "      <td>13</td>\n",
       "      <td>Sun</td>\n",
       "    </tr>\n",
       "    <tr>\n",
       "      <th>38</th>\n",
       "      <td>A</td>\n",
       "      <td>101</td>\n",
       "      <td>5-6节</td>\n",
       "      <td>14:00:00</td>\n",
       "      <td>15:35:00</td>\n",
       "      <td>NaN</td>\n",
       "      <td>NaN</td>\n",
       "      <td>NaN</td>\n",
       "      <td>13</td>\n",
       "      <td>Sun</td>\n",
       "    </tr>\n",
       "    <tr>\n",
       "      <th>39</th>\n",
       "      <td>A</td>\n",
       "      <td>101</td>\n",
       "      <td>7-8节</td>\n",
       "      <td>15:55:00</td>\n",
       "      <td>17:35:00</td>\n",
       "      <td>NaN</td>\n",
       "      <td>NaN</td>\n",
       "      <td>NaN</td>\n",
       "      <td>13</td>\n",
       "      <td>Sun</td>\n",
       "    </tr>\n",
       "    <tr>\n",
       "      <th>40</th>\n",
       "      <td>A</td>\n",
       "      <td>101</td>\n",
       "      <td>9-10节</td>\n",
       "      <td>18:00:00</td>\n",
       "      <td>19:35:00</td>\n",
       "      <td>NaN</td>\n",
       "      <td>NaN</td>\n",
       "      <td>NaN</td>\n",
       "      <td>13</td>\n",
       "      <td>Sun</td>\n",
       "    </tr>\n",
       "    <tr>\n",
       "      <th>41</th>\n",
       "      <td>A</td>\n",
       "      <td>101</td>\n",
       "      <td>11-12节</td>\n",
       "      <td>20:00:00</td>\n",
       "      <td>21:35:00</td>\n",
       "      <td>NaN</td>\n",
       "      <td>NaN</td>\n",
       "      <td>NaN</td>\n",
       "      <td>13</td>\n",
       "      <td>Sun</td>\n",
       "    </tr>\n",
       "  </tbody>\n",
       "</table>\n",
       "</div>"
      ],
      "text/plain": [
       "   Building  Classroom Schedule Time Start  Time End Course Class ID  \\\n",
       "0         A        101     1-2节   08:30:00  10:05:00       ML2020001   \n",
       "1         A        101     3-4节   10:25:00  12:00:00       DL2020001   \n",
       "2         A        101     5-6节   14:00:00  15:35:00       CV2020001   \n",
       "3         A        101     7-8节   15:55:00  17:35:00       CI2020001   \n",
       "4         A        101    9-10节   18:00:00  19:35:00       DM2020001   \n",
       "5         A        101   11-12节   20:00:00  21:35:00             NaN   \n",
       "6         A        101     1-2节   08:30:00  10:05:00             NaN   \n",
       "7         A        101     3-4节   10:25:00  12:00:00             NaN   \n",
       "8         A        101     5-6节   14:00:00  15:35:00             NaN   \n",
       "9         A        101     7-8节   15:55:00  17:35:00             NaN   \n",
       "10        A        101    9-10节   18:00:00  19:35:00             NaN   \n",
       "11        A        101   11-12节   20:00:00  21:35:00             NaN   \n",
       "12        A        101     1-2节   08:30:00  10:05:00       ML2020001   \n",
       "13        A        101     3-4节   10:25:00  12:00:00       DL2020001   \n",
       "14        A        101     5-6节   14:00:00  15:35:00       CV2020001   \n",
       "15        A        101     7-8节   15:55:00  17:35:00       CI2020001   \n",
       "16        A        101    9-10节   18:00:00  19:35:00       DM2020001   \n",
       "17        A        101   11-12节   20:00:00  21:35:00             NaN   \n",
       "18        A        101     1-2节   08:30:00  10:05:00             NaN   \n",
       "19        A        101     3-4节   10:25:00  12:00:00             NaN   \n",
       "20        A        101     5-6节   14:00:00  15:35:00             NaN   \n",
       "21        A        101     7-8节   15:55:00  17:35:00             NaN   \n",
       "22        A        101    9-10节   18:00:00  19:35:00             NaN   \n",
       "23        A        101   11-12节   20:00:00  21:35:00             NaN   \n",
       "24        A        101     1-2节   08:30:00  10:05:00       ML2020001   \n",
       "25        A        101     3-4节   10:25:00  12:00:00       DL2020001   \n",
       "26        A        101     5-6节   14:00:00  15:35:00       CV2020001   \n",
       "27        A        101     7-8节   15:55:00  17:35:00       CI2020001   \n",
       "28        A        101    9-10节   18:00:00  19:35:00       DM2020001   \n",
       "29        A        101   11-12节   20:00:00  21:35:00             NaN   \n",
       "30        A        101     1-2节   08:30:00  10:05:00             NaN   \n",
       "31        A        101     3-4节   10:25:00  12:00:00             NaN   \n",
       "32        A        101     5-6节   14:00:00  15:35:00             NaN   \n",
       "33        A        101     7-8节   15:55:00  17:35:00             NaN   \n",
       "34        A        101    9-10节   18:00:00  19:35:00             NaN   \n",
       "35        A        101   11-12节   20:00:00  21:35:00             NaN   \n",
       "36        A        101     1-2节   08:30:00  10:05:00             NaN   \n",
       "37        A        101     3-4节   10:25:00  12:00:00             NaN   \n",
       "38        A        101     5-6节   14:00:00  15:35:00             NaN   \n",
       "39        A        101     7-8节   15:55:00  17:35:00             NaN   \n",
       "40        A        101    9-10节   18:00:00  19:35:00             NaN   \n",
       "41        A        101   11-12节   20:00:00  21:35:00             NaN   \n",
       "\n",
       "              Course Name      Class week  Current Week Weekday  \n",
       "0        Machine Learning  01--08, 10--17            13     Mon  \n",
       "1           Deep Learning          01--16            13     Mon  \n",
       "2         Computer Vision  01--10, 12--15            13     Mon  \n",
       "3   Computer Intelligence          01--16            13     Mon  \n",
       "4             Data Mining          01--18            13     Mon  \n",
       "5                     NaN             NaN            13     Mon  \n",
       "6                     NaN             NaN            13     Tue  \n",
       "7                     NaN             NaN            13     Tue  \n",
       "8                     NaN             NaN            13     Tue  \n",
       "9                     NaN             NaN            13     Tue  \n",
       "10                    NaN             NaN            13     Tue  \n",
       "11                    NaN             NaN            13     Tue  \n",
       "12       Machine Learning  01--08, 10--17            13     Wed  \n",
       "13          Deep Learning          01--16            13     Wed  \n",
       "14        Computer Vision  01--10, 12--15            13     Wed  \n",
       "15  Computer Intelligence          01--16            13     Wed  \n",
       "16            Data Mining          01--18            13     Wed  \n",
       "17                    NaN             NaN            13     Wed  \n",
       "18                    NaN             NaN            13     Thu  \n",
       "19                    NaN             NaN            13     Thu  \n",
       "20                    NaN             NaN            13     Thu  \n",
       "21                    NaN             NaN            13     Thu  \n",
       "22                    NaN             NaN            13     Thu  \n",
       "23                    NaN             NaN            13     Thu  \n",
       "24       Machine Learning  01--08, 10--17            13     Fri  \n",
       "25          Deep Learning          01--16            13     Fri  \n",
       "26        Computer Vision  01--10, 12--15            13     Fri  \n",
       "27  Computer Intelligence          01--16            13     Fri  \n",
       "28            Data Mining          01--18            13     Fri  \n",
       "29                    NaN             NaN            13     Fri  \n",
       "30                    NaN             NaN            13     Sat  \n",
       "31                    NaN             NaN            13     Sat  \n",
       "32                    NaN             NaN            13     Sat  \n",
       "33                    NaN             NaN            13     Sat  \n",
       "34                    NaN             NaN            13     Sat  \n",
       "35                    NaN             NaN            13     Sat  \n",
       "36                    NaN             NaN            13     Sun  \n",
       "37                    NaN             NaN            13     Sun  \n",
       "38                    NaN             NaN            13     Sun  \n",
       "39                    NaN             NaN            13     Sun  \n",
       "40                    NaN             NaN            13     Sun  \n",
       "41                    NaN             NaN            13     Sun  "
      ]
     },
     "execution_count": 394,
     "metadata": {},
     "output_type": "execute_result"
    }
   ],
   "source": [
    "room_table"
   ]
  },
  {
   "cell_type": "code",
   "execution_count": 116,
   "id": "fb3a66a7",
   "metadata": {},
   "outputs": [
    {
     "data": {
      "text/plain": [
       "Index(['Building', 'Classroom', 'Schedule', 'Time Start', 'Time End',\n",
       "       'Course Class ID', 'Course Name', 'Class week', 'Current Week',\n",
       "       'Weekday'],\n",
       "      dtype='object')"
      ]
     },
     "execution_count": 116,
     "metadata": {},
     "output_type": "execute_result"
    }
   ],
   "source": [
    "room_table.columns"
   ]
  },
  {
   "cell_type": "markdown",
   "id": "59e62945",
   "metadata": {},
   "source": [
    "# 2. Datetime 模块使用\n",
    "from datetime import datetime"
   ]
  },
  {
   "cell_type": "code",
   "execution_count": 8,
   "id": "1466300c",
   "metadata": {},
   "outputs": [
    {
     "data": {
      "text/plain": [
       "Timestamp('2021-03-01 00:00:00')"
      ]
     },
     "execution_count": 8,
     "metadata": {},
     "output_type": "execute_result"
    }
   ],
   "source": [
    "semester_start_week_date = au_info['Semester Start Week'][0]\n",
    "semester_start_week_date"
   ]
  },
  {
   "cell_type": "code",
   "execution_count": 10,
   "id": "5330c438",
   "metadata": {},
   "outputs": [
    {
     "data": {
      "text/plain": [
       "datetime.date(2021, 3, 1)"
      ]
     },
     "execution_count": 10,
     "metadata": {},
     "output_type": "execute_result"
    }
   ],
   "source": [
    "semester_start_week_date.date()"
   ]
  },
  {
   "cell_type": "code",
   "execution_count": 11,
   "id": "6b8eaff1",
   "metadata": {},
   "outputs": [
    {
     "data": {
      "text/plain": [
       "datetime.time(0, 0)"
      ]
     },
     "execution_count": 11,
     "metadata": {},
     "output_type": "execute_result"
    }
   ],
   "source": [
    "semester_start_week_date.time()"
   ]
  },
  {
   "cell_type": "markdown",
   "id": "4847d545",
   "metadata": {},
   "source": [
    "## Datetime Format\n",
    "- %Y: 4位数的年\n",
    "- %y: 2位数的年\n",
    "- %m: 2位数的月 [01,12]\n",
    "- %d: 2位数的日 [01,31]\n",
    "- %H: 24小时制 时 [00,23] \n",
    "- %I: 12小时制 时 [01,12]\n",
    "- %M: 2位数的 分 [00,59]\n",
    "- %S: 秒 [00,61] (60和61用于闰秒)\n",
    "\n",
    "---\n",
    "- %w: 用整数表示的星期几 [0(星期天),6]\n",
    "- %U: 每年的第几周 [0, 53]。星期天被认为是每周的第一天，每年第一个星期天之前的那几天被认为是第0周。\n",
    "- %W: 每年的第几周 [0, 53]。星期一被认为是每周的第一天，每年第一个星期天之前的那几天被认为是第0周。\n",
    "\n",
    "---\n",
    "- %F: %Y-%m-%d的简写形式，例如2021-5-23\n",
    "- %D: %m/%d/%y的简写形式，例如23/05/21\n",
    "\n",
    "---\n",
    "限于当前环境的日期格式\n",
    "\n",
    "- %a: 星期几的简写\n",
    "- %A: 星期几的全称\n",
    "- %b: 月份的简写\n",
    "- %B: 月份的全称\n",
    "- %c: 完整的日期和时间\n",
    "- %p: 不同环境的AM和PM\n",
    "- %x: 适用于当前环境的日期格式\n",
    "- %X: 适用于当前环境的时间格式"
   ]
  },
  {
   "cell_type": "code",
   "execution_count": 12,
   "id": "f93bbf09",
   "metadata": {},
   "outputs": [],
   "source": [
    "from datetime import datetime, timedelta, timezone"
   ]
  },
  {
   "cell_type": "code",
   "execution_count": 13,
   "id": "823e4091",
   "metadata": {},
   "outputs": [
    {
     "data": {
      "text/plain": [
       "datetime.datetime(2021, 5, 24, 1, 8, 6, 655051)"
      ]
     },
     "execution_count": 13,
     "metadata": {},
     "output_type": "execute_result"
    }
   ],
   "source": [
    "datetime.now()"
   ]
  },
  {
   "cell_type": "code",
   "execution_count": 14,
   "id": "da46e926",
   "metadata": {},
   "outputs": [
    {
     "data": {
      "text/plain": [
       "'Mon May 24 01:08:07 2021'"
      ]
     },
     "execution_count": 14,
     "metadata": {},
     "output_type": "execute_result"
    }
   ],
   "source": [
    "# 完整的日期和时间\n",
    "datetime.now().strftime('%c')"
   ]
  },
  {
   "cell_type": "code",
   "execution_count": 15,
   "id": "556b0fe7",
   "metadata": {},
   "outputs": [
    {
     "data": {
      "text/plain": [
       "0"
      ]
     },
     "execution_count": 15,
     "metadata": {},
     "output_type": "execute_result"
    }
   ],
   "source": [
    "# 获取当前日期是周几(0-6, 0代表周一)\n",
    "datetime.now().weekday()"
   ]
  },
  {
   "cell_type": "code",
   "execution_count": 16,
   "id": "248d96fe",
   "metadata": {},
   "outputs": [
    {
     "data": {
      "text/plain": [
       "'21'"
      ]
     },
     "execution_count": 16,
     "metadata": {},
     "output_type": "execute_result"
    }
   ],
   "source": [
    "# 获取当前日期是一年中的第几周\n",
    "datetime.now().strftime('%W')"
   ]
  },
  {
   "cell_type": "code",
   "execution_count": 17,
   "id": "009f58a2",
   "metadata": {},
   "outputs": [
    {
     "data": {
      "text/plain": [
       "datetime.datetime(2021, 3, 8, 8, 0)"
      ]
     },
     "execution_count": 17,
     "metadata": {},
     "output_type": "execute_result"
    }
   ],
   "source": [
    "value = '2021-3-08 08:00:00'\n",
    "\n",
    "datetime.strptime(value, '%Y-%m-%d %H:%M:%S')"
   ]
  },
  {
   "cell_type": "code",
   "execution_count": 18,
   "id": "e0ef39b4",
   "metadata": {},
   "outputs": [
    {
     "data": {
      "text/plain": [
       "'1'"
      ]
     },
     "execution_count": 18,
     "metadata": {},
     "output_type": "execute_result"
    }
   ],
   "source": [
    "# 获取指定日期属于周几\n",
    "datetime.strptime(value, '%Y-%m-%d %H:%M:%S').strftime('%w')"
   ]
  },
  {
   "cell_type": "code",
   "execution_count": 19,
   "id": "f82274e9",
   "metadata": {},
   "outputs": [
    {
     "data": {
      "text/plain": [
       "'10'"
      ]
     },
     "execution_count": 19,
     "metadata": {},
     "output_type": "execute_result"
    }
   ],
   "source": [
    "# 获取指定日期属于当年的第几周\n",
    "datetime.strptime(value, '%Y-%m-%d %H:%M:%S').strftime('%W')"
   ]
  },
  {
   "cell_type": "code",
   "execution_count": 20,
   "id": "32d659a5",
   "metadata": {},
   "outputs": [
    {
     "data": {
      "text/plain": [
       "10"
      ]
     },
     "execution_count": 20,
     "metadata": {},
     "output_type": "execute_result"
    }
   ],
   "source": [
    "# 获取指定日期属于当年的第几周\n",
    "int(datetime.strptime(value, '%Y-%m-%d %H:%M:%S').strftime('%W'))"
   ]
  },
  {
   "cell_type": "code",
   "execution_count": 21,
   "id": "b7954c69",
   "metadata": {},
   "outputs": [
    {
     "data": {
      "text/plain": [
       "Timedelta('84 days 01:08:09.720597')"
      ]
     },
     "execution_count": 21,
     "metadata": {},
     "output_type": "execute_result"
    }
   ],
   "source": [
    "# 两个datetime时间对象的差\n",
    "datetime.now() - semester_start_week_date"
   ]
  },
  {
   "cell_type": "code",
   "execution_count": 22,
   "id": "786a8243",
   "metadata": {},
   "outputs": [
    {
     "data": {
      "text/plain": [
       "'Mon'"
      ]
     },
     "execution_count": 22,
     "metadata": {},
     "output_type": "execute_result"
    }
   ],
   "source": [
    "# 获取指定时间属于星期几\n",
    "datetime.strptime(value, '%Y-%m-%d %H:%M:%S').strftime('%a')"
   ]
  },
  {
   "cell_type": "code",
   "execution_count": 23,
   "id": "43a0dd77",
   "metadata": {},
   "outputs": [
    {
     "data": {
      "text/plain": [
       "'Monday'"
      ]
     },
     "execution_count": 23,
     "metadata": {},
     "output_type": "execute_result"
    }
   ],
   "source": [
    "datetime.strptime(value, '%Y-%m-%d %H:%M:%S').strftime('%A')"
   ]
  },
  {
   "cell_type": "code",
   "execution_count": 24,
   "id": "1ac32135",
   "metadata": {},
   "outputs": [
    {
     "data": {
      "text/plain": [
       "'Mar'"
      ]
     },
     "execution_count": 24,
     "metadata": {},
     "output_type": "execute_result"
    }
   ],
   "source": [
    "# 获取指定时间属于月份\n",
    "datetime.strptime(value, '%Y-%m-%d %H:%M:%S').strftime('%b')"
   ]
  },
  {
   "cell_type": "code",
   "execution_count": 25,
   "id": "cfaf3b28",
   "metadata": {},
   "outputs": [
    {
     "data": {
      "text/plain": [
       "'March'"
      ]
     },
     "execution_count": 25,
     "metadata": {},
     "output_type": "execute_result"
    }
   ],
   "source": [
    "datetime.strptime(value, '%Y-%m-%d %H:%M:%S').strftime('%B')"
   ]
  },
  {
   "cell_type": "code",
   "execution_count": 26,
   "id": "1c27055c",
   "metadata": {},
   "outputs": [],
   "source": [
    "from datetime import datetime\n",
    "\n",
    "def calculate_current_teach_week(semester_first_week_date='2021-3-08 08:00:00'):\n",
    "    \"\"\"\n",
    "    计算当前日期所属教学周，实现思路是：当前日期所属一年中的周 - 每学期的第一周\n",
    "    ----\n",
    "    param: semester_first_week_date: 学期第一周的日期，例如 '2021-3-08 08:00:00'\n",
    "    \n",
    "    return: 当前教学周\n",
    "    \"\"\"\n",
    "    # 获取指定日期属于当年的第几周, 返回字符串\n",
    "    semester_first_week = datetime.strptime(semester_first_week_date, '%Y-%m-%d %H:%M:%S').strftime('%W')\n",
    "    # 获取当前日期是一年中的第几周, 返回字符串\n",
    "    current_year_week = datetime.now().strftime('%W')\n",
    "    # 计算当前日期所属的教学周\n",
    "    # ( ) 中的减一表示第一周之前的周数\n",
    "    # 最后加一是因为计算周数是从索引00开始的，所以需要加1\n",
    "    current_teach_week = int(current_year_week) - (int(semester_first_week) - 1) + 1\n",
    "    \n",
    "    return current_teach_week"
   ]
  },
  {
   "cell_type": "code",
   "execution_count": 27,
   "id": "ac86bfe9",
   "metadata": {},
   "outputs": [
    {
     "data": {
      "text/plain": [
       "13"
      ]
     },
     "execution_count": 27,
     "metadata": {},
     "output_type": "execute_result"
    }
   ],
   "source": [
    "start_date = '2021-3-08 08:00:00'\n",
    "\n",
    "# 根据当前时间和第一周的时间，计算当前教学周\n",
    "calculate_current_teach_week(start_date)"
   ]
  },
  {
   "cell_type": "code",
   "execution_count": 60,
   "id": "fd52c0b3",
   "metadata": {},
   "outputs": [
    {
     "data": {
      "text/plain": [
       "0   2021-05-01\n",
       "1   2021-05-02\n",
       "2   2021-05-03\n",
       "3   2021-05-04\n",
       "4   2021-05-05\n",
       "5          NaT\n",
       "Name: Holiday Date, dtype: datetime64[ns]"
      ]
     },
     "execution_count": 60,
     "metadata": {},
     "output_type": "execute_result"
    }
   ],
   "source": [
    "au_info['Holiday Date']"
   ]
  },
  {
   "cell_type": "code",
   "execution_count": 79,
   "id": "f2a4f42b",
   "metadata": {},
   "outputs": [
    {
     "data": {
      "text/plain": [
       "[Timestamp('2021-05-01 00:00:00'),\n",
       " Timestamp('2021-05-02 00:00:00'),\n",
       " Timestamp('2021-05-03 00:00:00'),\n",
       " Timestamp('2021-05-04 00:00:00'),\n",
       " Timestamp('2021-05-05 00:00:00'),\n",
       " NaT]"
      ]
     },
     "execution_count": 79,
     "metadata": {},
     "output_type": "execute_result"
    }
   ],
   "source": [
    "list(au_info['Holiday Date'])"
   ]
  },
  {
   "cell_type": "code",
   "execution_count": 80,
   "id": "89f3566d",
   "metadata": {},
   "outputs": [
    {
     "data": {
      "text/plain": [
       "(5, int)"
      ]
     },
     "execution_count": 80,
     "metadata": {},
     "output_type": "execute_result"
    }
   ],
   "source": [
    "au_info['Holiday Date'][0].month, type(au_info['Holiday Date'][0].month)"
   ]
  },
  {
   "cell_type": "code",
   "execution_count": 66,
   "id": "b52076f4",
   "metadata": {},
   "outputs": [
    {
     "data": {
      "text/plain": [
       "(NaT, pandas._libs.tslibs.nattype.NaTType)"
      ]
     },
     "execution_count": 66,
     "metadata": {},
     "output_type": "execute_result"
    }
   ],
   "source": [
    "au_info['Holiday Date'].iloc[-1], type(au_info['Holiday Date'].iloc[-1])"
   ]
  },
  {
   "cell_type": "code",
   "execution_count": 74,
   "id": "4f19ce39",
   "metadata": {},
   "outputs": [
    {
     "data": {
      "text/plain": [
       "NaT"
      ]
     },
     "execution_count": 74,
     "metadata": {},
     "output_type": "execute_result"
    }
   ],
   "source": [
    "pd.NaT"
   ]
  },
  {
   "cell_type": "code",
   "execution_count": 73,
   "id": "025a5227",
   "metadata": {},
   "outputs": [
    {
     "data": {
      "text/plain": [
       "NaT"
      ]
     },
     "execution_count": 73,
     "metadata": {},
     "output_type": "execute_result"
    }
   ],
   "source": [
    "au_info['Holiday Date'].iloc[-1]"
   ]
  },
  {
   "cell_type": "code",
   "execution_count": 85,
   "id": "f5671e18",
   "metadata": {},
   "outputs": [
    {
     "data": {
      "text/plain": [
       "True"
      ]
     },
     "execution_count": 85,
     "metadata": {},
     "output_type": "execute_result"
    }
   ],
   "source": [
    "type(au_info['Holiday Date'].iloc[-1]) == type(pd.NaT)"
   ]
  },
  {
   "cell_type": "code",
   "execution_count": 88,
   "id": "95c3f560",
   "metadata": {},
   "outputs": [
    {
     "data": {
      "text/plain": [
       "[Timestamp('2021-05-01 00:00:00'),\n",
       " Timestamp('2021-05-02 00:00:00'),\n",
       " Timestamp('2021-05-03 00:00:00'),\n",
       " Timestamp('2021-05-04 00:00:00'),\n",
       " Timestamp('2021-05-05 00:00:00')]"
      ]
     },
     "execution_count": 88,
     "metadata": {},
     "output_type": "execute_result"
    }
   ],
   "source": [
    "# 因为表中有 NaT类型，这在遍历时会导致错误，因此需要先过滤掉NaT值\n",
    "holidays = au_info['Holiday Date']\n",
    "# 不包含 NaT 的索引\n",
    "indexes_without_nat = [(type(holiday) != type(pd.NaT)) for holiday in au_info['Holiday Date']]\n",
    "# 不包含 NaT 的假期列表\n",
    "holidays_pure = list(holidays[indexes_without_nat])\n",
    "holidays_pure"
   ]
  },
  {
   "cell_type": "code",
   "execution_count": 217,
   "id": "9f5807e8",
   "metadata": {},
   "outputs": [],
   "source": [
    "def holiday_judgment(judg_time=datetime.now(), \n",
    "                     holidays=au_info['Holiday Date']):\n",
    "    \"\"\"\n",
    "    根据当前时间自动获取离目前最近课程的考勤时间\n",
    "    ----\n",
    "    param: judg_time: 需要被判断的时间\n",
    "    param: holidays: 当前学期的假期列表\n",
    "    return: \n",
    "            如果有课，则返回考勤时间设置；\n",
    "            如果没课，则返回None，并提示空教室。\n",
    "    \"\"\"\n",
    "    \n",
    "    # 因为表中有 NaT类型，这在遍历时会导致错误，因此需要先过滤掉NaT值\n",
    "    # 不包含 NaT 的索引\n",
    "    indexes_without_nat = [(type(holiday) != type(pd.NaT)) for holiday in au_info['Holiday Date']]\n",
    "    # 不包含 NaT 的假期列表\n",
    "    holidays_pure = list(holidays[indexes_without_nat])\n",
    "    \n",
    "    # 获取完整的时间格式\n",
    "    now = datetime.now()\n",
    "    # 分别获取当前的年，月，日，时，分，秒，均为int类型\n",
    "    now_year = judg_time.year\n",
    "    now_month = judg_time.month\n",
    "    now_day = judg_time.day\n",
    "    now_hour = judg_time.hour\n",
    "    now_minute = judg_time.minute\n",
    "    now_second = judg_time.second\n",
    "    \n",
    "    # 构造当前时间的日期的年月日，与假期列表中的日期对比，判断是否为假期\n",
    "    judg_time_ymd = datetime(now_year, now_month, now_day)\n",
    "    \n",
    "    # 是否为假期的标志位\n",
    "    is_now_holiday = False\n",
    "    \n",
    "    # 遍历假期列表\n",
    "    for holiday in holidays_pure:\n",
    "        # 截取当前假期的年月日\n",
    "        holiday_month_day = datetime(holiday.year, holiday.month, holiday.day)\n",
    "        if judg_time_ymd - holiday_month_day == 0:\n",
    "            is_now_holiday = True\n",
    "    \n",
    "    if is_now_holiday:\n",
    "        print(f'[INFO] {judg_time_ymd} is Holiday!')\n",
    "    else:\n",
    "        print(f'[INFO] {judg_time_ymd} is not Holiday!')\n",
    "    \n",
    "    return is_now_holiday"
   ]
  },
  {
   "cell_type": "code",
   "execution_count": 218,
   "id": "3f463b34",
   "metadata": {},
   "outputs": [
    {
     "name": "stdout",
     "output_type": "stream",
     "text": [
      "[INFO] 2021-05-24 00:00:00 is not Holiday!\n"
     ]
    },
    {
     "data": {
      "text/plain": [
       "False"
      ]
     },
     "execution_count": 218,
     "metadata": {},
     "output_type": "execute_result"
    }
   ],
   "source": [
    "holiday_judgment()"
   ]
  },
  {
   "cell_type": "code",
   "execution_count": 96,
   "id": "e0eabc49",
   "metadata": {},
   "outputs": [],
   "source": [
    "# 根据当前时间自动获取离目前最近课程的考勤时间\n",
    "\n",
    "## 1. 获取当前时间，并与列表中的时间对比\n",
    "## 2. 查看距离当前时刻最近的一节课是否有课 （不为NaN）\n",
    "## 3. 如果有课，则自动设置考勤时间\n",
    "### 1）正常：规定时间内签到\n",
    "### 2）迟到：上课之后45分钟内\n",
    "### 3）旷课：上课超过45分钟\n",
    "### 4）请假：通过销假系统自动读取，或者老师手动填写"
   ]
  },
  {
   "cell_type": "code",
   "execution_count": 111,
   "id": "711747a2",
   "metadata": {},
   "outputs": [
    {
     "data": {
      "text/plain": [
       "Index(['Building', 'Classroom', 'Schedule', 'Time Start', 'Time End',\n",
       "       'Course Class ID', 'Course Name', 'Class week', 'Current Week',\n",
       "       'Weekday'],\n",
       "      dtype='object')"
      ]
     },
     "execution_count": 111,
     "metadata": {},
     "output_type": "execute_result"
    }
   ],
   "source": [
    "room_table.columns"
   ]
  },
  {
   "cell_type": "code",
   "execution_count": 112,
   "id": "df8f73ca",
   "metadata": {},
   "outputs": [
    {
     "data": {
      "text/plain": [
       "Index(['Building', 'Classroom', 'Seating Capacity'], dtype='object')"
      ]
     },
     "execution_count": 112,
     "metadata": {},
     "output_type": "execute_result"
    }
   ],
   "source": [
    "room_info.columns"
   ]
  },
  {
   "cell_type": "code",
   "execution_count": 113,
   "id": "36a2c6ef",
   "metadata": {},
   "outputs": [
    {
     "data": {
      "text/plain": [
       "Index(['Academics', 'Grade', ' Class', 'Students'], dtype='object')"
      ]
     },
     "execution_count": 113,
     "metadata": {},
     "output_type": "execute_result"
    }
   ],
   "source": [
    "college_class_info.columns"
   ]
  },
  {
   "cell_type": "code",
   "execution_count": 114,
   "id": "c3296dd3",
   "metadata": {},
   "outputs": [
    {
     "data": {
      "text/plain": [
       "Index(['ID', 'Name', 'Academic', 'Course', 'Time', 'State', 'Description'], dtype='object')"
      ]
     },
     "execution_count": 114,
     "metadata": {},
     "output_type": "execute_result"
    }
   ],
   "source": [
    "attendance_logs.columns"
   ]
  },
  {
   "cell_type": "code",
   "execution_count": 124,
   "id": "d2a5ae3b",
   "metadata": {},
   "outputs": [
    {
     "data": {
      "text/plain": [
       "0    ML2020001\n",
       "1    DL2020001\n",
       "2    CV2020001\n",
       "3    CI2020001\n",
       "4    DM2020001\n",
       "5          NaN\n",
       "Name: Course Class ID, dtype: object"
      ]
     },
     "execution_count": 124,
     "metadata": {},
     "output_type": "execute_result"
    }
   ],
   "source": [
    "room_table['Course Class ID'][room_table['Weekday'].values == now_weekday]"
   ]
  },
  {
   "cell_type": "code",
   "execution_count": 129,
   "id": "b1eaff80",
   "metadata": {},
   "outputs": [
    {
     "data": {
      "text/plain": [
       "['ML2020001', 'DL2020001', 'CV2020001', 'CI2020001', 'DM2020001', nan]"
      ]
     },
     "execution_count": 129,
     "metadata": {},
     "output_type": "execute_result"
    }
   ],
   "source": [
    "now_course_id = list(room_table['Course Class ID'][room_table['Weekday'].values == now_weekday])\n",
    "now_course_id"
   ]
  },
  {
   "cell_type": "code",
   "execution_count": 132,
   "id": "488531e8",
   "metadata": {},
   "outputs": [
    {
     "data": {
      "text/plain": [
       "(nan, float)"
      ]
     },
     "execution_count": 132,
     "metadata": {},
     "output_type": "execute_result"
    }
   ],
   "source": [
    "now_course_id[-1], type(now_course_id[-1])"
   ]
  },
  {
   "cell_type": "code",
   "execution_count": 148,
   "id": "7eab5909",
   "metadata": {},
   "outputs": [
    {
     "data": {
      "text/plain": [
       "nan"
      ]
     },
     "execution_count": 148,
     "metadata": {},
     "output_type": "execute_result"
    }
   ],
   "source": [
    "np.nan"
   ]
  },
  {
   "cell_type": "code",
   "execution_count": 147,
   "id": "42948170",
   "metadata": {},
   "outputs": [
    {
     "data": {
      "text/plain": [
       "False"
      ]
     },
     "execution_count": 147,
     "metadata": {},
     "output_type": "execute_result"
    }
   ],
   "source": [
    "# 无法按照值比较大小！！！\n",
    "now_course_id[-1] == np.nan"
   ]
  },
  {
   "cell_type": "code",
   "execution_count": 143,
   "id": "2c521dda",
   "metadata": {},
   "outputs": [
    {
     "data": {
      "text/plain": [
       "True"
      ]
     },
     "execution_count": 143,
     "metadata": {},
     "output_type": "execute_result"
    }
   ],
   "source": [
    "now_course_id[-1] is np.nan"
   ]
  },
  {
   "cell_type": "code",
   "execution_count": 133,
   "id": "46800571",
   "metadata": {},
   "outputs": [
    {
     "data": {
      "text/plain": [
       "(<NA>, pandas._libs.missing.NAType)"
      ]
     },
     "execution_count": 133,
     "metadata": {},
     "output_type": "execute_result"
    }
   ],
   "source": [
    "pd.NA, type(pd.NA)"
   ]
  },
  {
   "cell_type": "code",
   "execution_count": 135,
   "id": "fee1f42d",
   "metadata": {},
   "outputs": [
    {
     "data": {
      "text/plain": [
       "(nan, float)"
      ]
     },
     "execution_count": 135,
     "metadata": {},
     "output_type": "execute_result"
    }
   ],
   "source": [
    "np.nan, type(np.nan)"
   ]
  },
  {
   "cell_type": "code",
   "execution_count": 162,
   "id": "6c162c44",
   "metadata": {},
   "outputs": [
    {
     "data": {
      "text/plain": [
       "[True, True, True, True, True, False]"
      ]
     },
     "execution_count": 162,
     "metadata": {},
     "output_type": "execute_result"
    }
   ],
   "source": [
    "# 判断当日课程id列表中，是否存在不是nan值的课程（即有课的课程）\n",
    "# 返回值 [True, True, True, True, True, False]\n",
    "bool_day_course = [(course_id is not np.nan) for course_id in now_course_id]\n",
    "bool_day_course"
   ]
  },
  {
   "cell_type": "code",
   "execution_count": 151,
   "id": "cd2a53f9",
   "metadata": {},
   "outputs": [
    {
     "data": {
      "text/plain": [
       "array([False,  True])"
      ]
     },
     "execution_count": 151,
     "metadata": {},
     "output_type": "execute_result"
    }
   ],
   "source": [
    "# 计算唯一值的个数，如果=2，则说明有课，即包含True（有课）和False（无课）\n",
    "len_bool_day_course = len(np.unique(bool_day_course))\n",
    "if len_bool_day_course == 2:\n",
    "    # 获取有课的课程信息\n",
    "    \n",
    "else:\n",
    "    \n",
    "room_table[bool_day_course]\n",
    "# 如果=1，则有两种情况，全天无课（False），全天有课（True）\n",
    "np.unique(bool_day_course)"
   ]
  },
  {
   "cell_type": "code",
   "execution_count": 152,
   "id": "54c7c562",
   "metadata": {},
   "outputs": [
    {
     "data": {
      "text/plain": [
       "2"
      ]
     },
     "execution_count": 152,
     "metadata": {},
     "output_type": "execute_result"
    }
   ],
   "source": [
    "len(np.unique(bool_day_course))"
   ]
  },
  {
   "cell_type": "code",
   "execution_count": 154,
   "id": "ce8d11df",
   "metadata": {},
   "outputs": [
    {
     "data": {
      "text/plain": [
       "True"
      ]
     },
     "execution_count": 154,
     "metadata": {},
     "output_type": "execute_result"
    }
   ],
   "source": [
    "np.unique(bool_day_course)[0] == False"
   ]
  },
  {
   "cell_type": "code",
   "execution_count": 122,
   "id": "67402b81",
   "metadata": {},
   "outputs": [
    {
     "data": {
      "text/plain": [
       "'Mon'"
      ]
     },
     "execution_count": 122,
     "metadata": {},
     "output_type": "execute_result"
    }
   ],
   "source": [
    "now_weekday = datetime.now().strftime('%a')\n",
    "now_weekday"
   ]
  },
  {
   "cell_type": "code",
   "execution_count": 158,
   "id": "f2364f93",
   "metadata": {},
   "outputs": [
    {
     "data": {
      "text/plain": [
       "array([ True,  True,  True,  True,  True,  True, False, False, False,\n",
       "       False, False, False, False, False, False, False, False, False,\n",
       "       False, False, False, False, False, False, False, False, False,\n",
       "       False, False, False, False, False, False, False, False, False,\n",
       "       False, False, False, False, False, False])"
      ]
     },
     "execution_count": 158,
     "metadata": {},
     "output_type": "execute_result"
    }
   ],
   "source": [
    "# 找出当前周中周几的索引，便于检索该天的课程信息\n",
    "extract_index = (room_table['Weekday'].values == now_weekday)\n",
    "extract_index"
   ]
  },
  {
   "cell_type": "code",
   "execution_count": 160,
   "id": "a9e8c03e",
   "metadata": {},
   "outputs": [
    {
     "data": {
      "text/html": [
       "<div>\n",
       "<style scoped>\n",
       "    .dataframe tbody tr th:only-of-type {\n",
       "        vertical-align: middle;\n",
       "    }\n",
       "\n",
       "    .dataframe tbody tr th {\n",
       "        vertical-align: top;\n",
       "    }\n",
       "\n",
       "    .dataframe thead th {\n",
       "        text-align: right;\n",
       "    }\n",
       "</style>\n",
       "<table border=\"1\" class=\"dataframe\">\n",
       "  <thead>\n",
       "    <tr style=\"text-align: right;\">\n",
       "      <th></th>\n",
       "      <th>Building</th>\n",
       "      <th>Classroom</th>\n",
       "      <th>Schedule</th>\n",
       "      <th>Time Start</th>\n",
       "      <th>Time End</th>\n",
       "      <th>Course Class ID</th>\n",
       "      <th>Course Name</th>\n",
       "      <th>Class week</th>\n",
       "      <th>Current Week</th>\n",
       "      <th>Weekday</th>\n",
       "    </tr>\n",
       "  </thead>\n",
       "  <tbody>\n",
       "    <tr>\n",
       "      <th>0</th>\n",
       "      <td>A</td>\n",
       "      <td>101</td>\n",
       "      <td>1-2节</td>\n",
       "      <td>08:00:00</td>\n",
       "      <td>10:05:00</td>\n",
       "      <td>ML2020001</td>\n",
       "      <td>Machine Learning</td>\n",
       "      <td>01--08, 10--17</td>\n",
       "      <td>1</td>\n",
       "      <td>Mon</td>\n",
       "    </tr>\n",
       "    <tr>\n",
       "      <th>1</th>\n",
       "      <td>A</td>\n",
       "      <td>101</td>\n",
       "      <td>3-4节</td>\n",
       "      <td>10:05:00</td>\n",
       "      <td>12:00:00</td>\n",
       "      <td>DL2020001</td>\n",
       "      <td>Deep Learning</td>\n",
       "      <td>01--16</td>\n",
       "      <td>1</td>\n",
       "      <td>Mon</td>\n",
       "    </tr>\n",
       "    <tr>\n",
       "      <th>2</th>\n",
       "      <td>A</td>\n",
       "      <td>101</td>\n",
       "      <td>5-6节</td>\n",
       "      <td>14:00:00</td>\n",
       "      <td>15:35:00</td>\n",
       "      <td>CV2020001</td>\n",
       "      <td>Computer Vision</td>\n",
       "      <td>01--10, 12--15</td>\n",
       "      <td>1</td>\n",
       "      <td>Mon</td>\n",
       "    </tr>\n",
       "    <tr>\n",
       "      <th>3</th>\n",
       "      <td>A</td>\n",
       "      <td>101</td>\n",
       "      <td>7-8节</td>\n",
       "      <td>15:55:00</td>\n",
       "      <td>17:35:00</td>\n",
       "      <td>CI2020001</td>\n",
       "      <td>Computer Intelligence</td>\n",
       "      <td>01--16</td>\n",
       "      <td>1</td>\n",
       "      <td>Mon</td>\n",
       "    </tr>\n",
       "    <tr>\n",
       "      <th>4</th>\n",
       "      <td>A</td>\n",
       "      <td>101</td>\n",
       "      <td>9-10节</td>\n",
       "      <td>18:00:00</td>\n",
       "      <td>19:35:00</td>\n",
       "      <td>DM2020001</td>\n",
       "      <td>Data Mining</td>\n",
       "      <td>01--18</td>\n",
       "      <td>1</td>\n",
       "      <td>Mon</td>\n",
       "    </tr>\n",
       "    <tr>\n",
       "      <th>5</th>\n",
       "      <td>A</td>\n",
       "      <td>101</td>\n",
       "      <td>11-12节</td>\n",
       "      <td>20:00:00</td>\n",
       "      <td>21:35:00</td>\n",
       "      <td>NaN</td>\n",
       "      <td>NaN</td>\n",
       "      <td>NaN</td>\n",
       "      <td>1</td>\n",
       "      <td>Mon</td>\n",
       "    </tr>\n",
       "  </tbody>\n",
       "</table>\n",
       "</div>"
      ],
      "text/plain": [
       "  Building  Classroom Schedule Time Start  Time End Course Class ID  \\\n",
       "0        A        101     1-2节   08:00:00  10:05:00       ML2020001   \n",
       "1        A        101     3-4节   10:05:00  12:00:00       DL2020001   \n",
       "2        A        101     5-6节   14:00:00  15:35:00       CV2020001   \n",
       "3        A        101     7-8节   15:55:00  17:35:00       CI2020001   \n",
       "4        A        101    9-10节   18:00:00  19:35:00       DM2020001   \n",
       "5        A        101   11-12节   20:00:00  21:35:00             NaN   \n",
       "\n",
       "             Course Name      Class week  Current Week Weekday  \n",
       "0       Machine Learning  01--08, 10--17             1     Mon  \n",
       "1          Deep Learning          01--16             1     Mon  \n",
       "2        Computer Vision  01--10, 12--15             1     Mon  \n",
       "3  Computer Intelligence          01--16             1     Mon  \n",
       "4            Data Mining          01--18             1     Mon  \n",
       "5                    NaN             NaN             1     Mon  "
      ]
     },
     "execution_count": 160,
     "metadata": {},
     "output_type": "execute_result"
    }
   ],
   "source": [
    "# 找出当天的room_table信息\n",
    "now_room_table = room_table.loc[extract_index]\n",
    "now_room_table"
   ]
  },
  {
   "cell_type": "code",
   "execution_count": 163,
   "id": "89377302",
   "metadata": {},
   "outputs": [
    {
     "data": {
      "text/plain": [
       "0    ML2020001\n",
       "1    DL2020001\n",
       "2    CV2020001\n",
       "3    CI2020001\n",
       "4    DM2020001\n",
       "Name: Course Class ID, dtype: object"
      ]
     },
     "execution_count": 163,
     "metadata": {},
     "output_type": "execute_result"
    }
   ],
   "source": [
    "now_room_table['Course Class ID'][bool_day_course]"
   ]
  },
  {
   "cell_type": "code",
   "execution_count": 164,
   "id": "dfae5f69",
   "metadata": {},
   "outputs": [
    {
     "data": {
      "text/html": [
       "<div>\n",
       "<style scoped>\n",
       "    .dataframe tbody tr th:only-of-type {\n",
       "        vertical-align: middle;\n",
       "    }\n",
       "\n",
       "    .dataframe tbody tr th {\n",
       "        vertical-align: top;\n",
       "    }\n",
       "\n",
       "    .dataframe thead th {\n",
       "        text-align: right;\n",
       "    }\n",
       "</style>\n",
       "<table border=\"1\" class=\"dataframe\">\n",
       "  <thead>\n",
       "    <tr style=\"text-align: right;\">\n",
       "      <th></th>\n",
       "      <th>Building</th>\n",
       "      <th>Classroom</th>\n",
       "      <th>Schedule</th>\n",
       "      <th>Time Start</th>\n",
       "      <th>Time End</th>\n",
       "      <th>Course Class ID</th>\n",
       "      <th>Course Name</th>\n",
       "      <th>Class week</th>\n",
       "      <th>Current Week</th>\n",
       "      <th>Weekday</th>\n",
       "    </tr>\n",
       "  </thead>\n",
       "  <tbody>\n",
       "    <tr>\n",
       "      <th>0</th>\n",
       "      <td>A</td>\n",
       "      <td>101</td>\n",
       "      <td>1-2节</td>\n",
       "      <td>08:00:00</td>\n",
       "      <td>10:05:00</td>\n",
       "      <td>ML2020001</td>\n",
       "      <td>Machine Learning</td>\n",
       "      <td>01--08, 10--17</td>\n",
       "      <td>1</td>\n",
       "      <td>Mon</td>\n",
       "    </tr>\n",
       "    <tr>\n",
       "      <th>1</th>\n",
       "      <td>A</td>\n",
       "      <td>101</td>\n",
       "      <td>3-4节</td>\n",
       "      <td>10:05:00</td>\n",
       "      <td>12:00:00</td>\n",
       "      <td>DL2020001</td>\n",
       "      <td>Deep Learning</td>\n",
       "      <td>01--16</td>\n",
       "      <td>1</td>\n",
       "      <td>Mon</td>\n",
       "    </tr>\n",
       "    <tr>\n",
       "      <th>2</th>\n",
       "      <td>A</td>\n",
       "      <td>101</td>\n",
       "      <td>5-6节</td>\n",
       "      <td>14:00:00</td>\n",
       "      <td>15:35:00</td>\n",
       "      <td>CV2020001</td>\n",
       "      <td>Computer Vision</td>\n",
       "      <td>01--10, 12--15</td>\n",
       "      <td>1</td>\n",
       "      <td>Mon</td>\n",
       "    </tr>\n",
       "    <tr>\n",
       "      <th>3</th>\n",
       "      <td>A</td>\n",
       "      <td>101</td>\n",
       "      <td>7-8节</td>\n",
       "      <td>15:55:00</td>\n",
       "      <td>17:35:00</td>\n",
       "      <td>CI2020001</td>\n",
       "      <td>Computer Intelligence</td>\n",
       "      <td>01--16</td>\n",
       "      <td>1</td>\n",
       "      <td>Mon</td>\n",
       "    </tr>\n",
       "    <tr>\n",
       "      <th>4</th>\n",
       "      <td>A</td>\n",
       "      <td>101</td>\n",
       "      <td>9-10节</td>\n",
       "      <td>18:00:00</td>\n",
       "      <td>19:35:00</td>\n",
       "      <td>DM2020001</td>\n",
       "      <td>Data Mining</td>\n",
       "      <td>01--18</td>\n",
       "      <td>1</td>\n",
       "      <td>Mon</td>\n",
       "    </tr>\n",
       "  </tbody>\n",
       "</table>\n",
       "</div>"
      ],
      "text/plain": [
       "  Building  Classroom Schedule Time Start  Time End Course Class ID  \\\n",
       "0        A        101     1-2节   08:00:00  10:05:00       ML2020001   \n",
       "1        A        101     3-4节   10:05:00  12:00:00       DL2020001   \n",
       "2        A        101     5-6节   14:00:00  15:35:00       CV2020001   \n",
       "3        A        101     7-8节   15:55:00  17:35:00       CI2020001   \n",
       "4        A        101    9-10节   18:00:00  19:35:00       DM2020001   \n",
       "\n",
       "             Course Name      Class week  Current Week Weekday  \n",
       "0       Machine Learning  01--08, 10--17             1     Mon  \n",
       "1          Deep Learning          01--16             1     Mon  \n",
       "2        Computer Vision  01--10, 12--15             1     Mon  \n",
       "3  Computer Intelligence          01--16             1     Mon  \n",
       "4            Data Mining          01--18             1     Mon  "
      ]
     },
     "execution_count": 164,
     "metadata": {},
     "output_type": "execute_result"
    }
   ],
   "source": [
    "now_room_table[bool_day_course]"
   ]
  },
  {
   "cell_type": "code",
   "execution_count": 185,
   "id": "202815d2",
   "metadata": {},
   "outputs": [
    {
     "data": {
      "text/plain": [
       "{'Building': 'A',\n",
       " 'Classroom': 101,\n",
       " 'Schedule': '1-2节',\n",
       " 'Time Start': datetime.time(8, 0),\n",
       " 'Time End': datetime.time(10, 5),\n",
       " 'Course Class ID': 'ML2020001',\n",
       " 'Course Name': 'Machine Learning',\n",
       " 'Class week': '01--08, 10--17',\n",
       " 'Current Week': 1,\n",
       " 'Weekday': 'Mon'}"
      ]
     },
     "execution_count": 185,
     "metadata": {},
     "output_type": "execute_result"
    }
   ],
   "source": [
    "room_dict = now_room_table[bool_day_course].loc[0].to_dict()\n",
    "room_dict"
   ]
  },
  {
   "cell_type": "code",
   "execution_count": 186,
   "id": "83d1e377",
   "metadata": {},
   "outputs": [
    {
     "data": {
      "text/plain": [
       "dict_keys(['Building', 'Classroom', 'Schedule', 'Time Start', 'Time End', 'Course Class ID', 'Course Name', 'Class week', 'Current Week', 'Weekday'])"
      ]
     },
     "execution_count": 186,
     "metadata": {},
     "output_type": "execute_result"
    }
   ],
   "source": [
    "room_dict.keys()"
   ]
  },
  {
   "cell_type": "code",
   "execution_count": 187,
   "id": "5facf651",
   "metadata": {},
   "outputs": [
    {
     "data": {
      "text/plain": [
       "dict_items([('Building', 'A'), ('Classroom', 101), ('Schedule', '1-2节'), ('Time Start', datetime.time(8, 0)), ('Time End', datetime.time(10, 5)), ('Course Class ID', 'ML2020001'), ('Course Name', 'Machine Learning'), ('Class week', '01--08, 10--17'), ('Current Week', 1), ('Weekday', 'Mon')])"
      ]
     },
     "execution_count": 187,
     "metadata": {},
     "output_type": "execute_result"
    }
   ],
   "source": [
    "room_dict.items()"
   ]
  },
  {
   "cell_type": "code",
   "execution_count": 201,
   "id": "ddc90363",
   "metadata": {},
   "outputs": [
    {
     "name": "stdout",
     "output_type": "stream",
     "text": [
      "('Building',)\n",
      "('Classroom',)\n",
      "('Schedule',)\n",
      "('Time Start',)\n",
      "('Time End',)\n",
      "('Course Class ID',)\n",
      "('Course Name',)\n",
      "('Class week',)\n",
      "('Current Week',)\n",
      "('Weekday',)\n"
     ]
    }
   ],
   "source": [
    "for i in zip(room_dict):\n",
    "    print(i)"
   ]
  },
  {
   "cell_type": "code",
   "execution_count": 202,
   "id": "0bc70aef",
   "metadata": {},
   "outputs": [
    {
     "name": "stdout",
     "output_type": "stream",
     "text": [
      "('Building',)\n",
      "('Classroom',)\n",
      "('Schedule',)\n",
      "('Time Start',)\n",
      "('Time End',)\n",
      "('Course Class ID',)\n",
      "('Course Name',)\n",
      "('Class week',)\n",
      "('Current Week',)\n",
      "('Weekday',)\n"
     ]
    }
   ],
   "source": [
    "for i in zip(room_dict.keys()):\n",
    "    print(i)"
   ]
  },
  {
   "cell_type": "code",
   "execution_count": 203,
   "id": "95c3c1e3",
   "metadata": {},
   "outputs": [
    {
     "name": "stdout",
     "output_type": "stream",
     "text": [
      "(('Building', 'A'),)\n",
      "(('Classroom', 101),)\n",
      "(('Schedule', '1-2节'),)\n",
      "(('Time Start', datetime.time(8, 0)),)\n",
      "(('Time End', datetime.time(10, 5)),)\n",
      "(('Course Class ID', 'ML2020001'),)\n",
      "(('Course Name', 'Machine Learning'),)\n",
      "(('Class week', '01--08, 10--17'),)\n",
      "(('Current Week', 1),)\n",
      "(('Weekday', 'Mon'),)\n"
     ]
    }
   ],
   "source": [
    "for i in zip(room_dict.items()):\n",
    "    print(i)"
   ]
  },
  {
   "cell_type": "code",
   "execution_count": 214,
   "id": "6433f4a5",
   "metadata": {},
   "outputs": [],
   "source": [
    "class AttendanceCheck(object):\n",
    "    def __init__(self):\n",
    "        # 获取完整的时间格式\n",
    "        now = datetime.now()\n",
    "        # 分别获取当前的年，月，日，时，分，秒，均为int类型\n",
    "        now_year = judg_time.year\n",
    "        now_month = judg_time.month\n",
    "        now_day = judg_time.day\n",
    "        now_hour = judg_time.hour\n",
    "        now_minute = judg_time.minute\n",
    "        now_second = judg_time.second\n",
    "\n",
    "        # 构造当前时间的日期的年月日，与假期列表中的日期对比，判断是否为假期\n",
    "        judg_time_ymd = now.date()\n",
    "        judg_time_hms = now.time()\n",
    "        \n",
    "    def calculate_current_teach_week(semester_first_week_date='2021-3-08 08:00:00'):\n",
    "        \"\"\"\n",
    "        计算当前日期所属教学周，实现思路是：当前日期所属一年中的周 - 每学期的第一周\n",
    "        ----\n",
    "        param: semester_first_week_date: 学期第一周的日期，例如 '2021-3-08 08:00:00'\n",
    "\n",
    "        return: 当前教学周\n",
    "        \"\"\"\n",
    "        # 获取指定日期属于当年的第几周, 返回字符串\n",
    "        semester_first_week = datetime.strptime(semester_first_week_date, '%Y-%m-%d %H:%M:%S').strftime('%W')\n",
    "        # 获取当前日期是一年中的第几周, 返回字符串\n",
    "        current_year_week = datetime.now().strftime('%W')\n",
    "        # 计算当前日期所属的教学周\n",
    "        # ( ) 中的减一表示第一周之前的周数\n",
    "        # 最后加一是因为计算周数是从索引00开始的，所以需要加1\n",
    "        current_teach_week = int(current_year_week) - (int(semester_first_week) - 1) + 1\n",
    "\n",
    "        return current_teach_week\n",
    "\n",
    "    def holiday_judgment(judg_time=datetime.now(), \n",
    "                         holidays=au_info['Holiday Date']):\n",
    "        \"\"\"\n",
    "        根据当前时间自动获取离目前最近课程的考勤时间\n",
    "        ----\n",
    "        param: judg_time: 需要被判断的时间\n",
    "        param: holidays: 当前学期的假期列表\n",
    "        return: \n",
    "                如果有课，则返回考勤时间设置；\n",
    "                如果没课，则返回None，并提示空教室。\n",
    "        \"\"\"\n",
    "\n",
    "        # 因为表中有 NaT类型，这在遍历时会导致错误，因此需要先过滤掉NaT值\n",
    "        # 不包含 NaT 的索引\n",
    "        indexes_without_nat = [(type(holiday) != type(pd.NaT)) for holiday in au_info['Holiday Date']]\n",
    "        # 不包含 NaT 的假期列表\n",
    "        holidays_pure = list(holidays[indexes_without_nat])\n",
    "\n",
    "        # 获取完整的时间格式\n",
    "        now = datetime.now()\n",
    "        # 分别获取当前的年，月，日，时，分，秒，均为int类型\n",
    "        now_year = judg_time.year\n",
    "        now_month = judg_time.month\n",
    "        now_day = judg_time.day\n",
    "        now_hour = judg_time.hour\n",
    "        now_minute = judg_time.minute\n",
    "        now_second = judg_time.second\n",
    "\n",
    "        # 构造当前时间的日期的年月日，与假期列表中的日期对比，判断是否为假期\n",
    "        judg_time_ymd = datetime(now_year, now_month, now_day)\n",
    "\n",
    "        # 是否为假期的标志位\n",
    "        is_now_holiday = False\n",
    "\n",
    "        # 遍历假期列表\n",
    "        for holiday in holidays_pure:\n",
    "            # 截取当前假期的年月日\n",
    "            holiday_month_day = datetime(holiday.year, holiday.month, holiday.day)\n",
    "            if judg_time_ymd - holiday_month_day == 0:\n",
    "                is_now_holiday = True\n",
    "\n",
    "        if is_now_holiday:\n",
    "            print(f'[INFO] {judg_time_ymd} is Holiday!')\n",
    "        else:\n",
    "            print(f'[INFO] {judg_time_ymd} is not Holiday!')\n",
    "\n",
    "        return is_now_holiday"
   ]
  },
  {
   "cell_type": "code",
   "execution_count": 319,
   "id": "2a06f08b",
   "metadata": {},
   "outputs": [],
   "source": [
    "# 获取当前天的课程，补课，调课，各课程的起始截止时间信息\n",
    "def get_course_attendance_info(au_info, room_table):\n",
    "    \"\"\"\n",
    "\n",
    "    ---\n",
    "    param au_info: Auxiliary_Info 表的DataFrame格式\n",
    "    param room_table: Classroom_Course_Schedule 的DataFrame格式\n",
    "    \"\"\"\n",
    "    # 获取完整的时间格式\n",
    "    now = datetime.now()\n",
    "    judg_time = now\n",
    "    # 构造当前时间的日期的年月日，与假期列表中的日期对比，判断是否为假期\n",
    "    judg_time_ymd = judg_time.date()\n",
    "    \n",
    "    # 1.判断今天是否为假期\n",
    "    \n",
    "    # 是否为假期的标志位, False 表示不是假期\n",
    "    is_now_holiday = holiday_judgment()\n",
    "    # 是否有课标志位\n",
    "    is_now_course = False\n",
    "    # 是否被调换时间标志位\n",
    "    is_now_swap = False\n",
    "    # 是否有补课标志位\n",
    "    is_now_makeup = False\n",
    "    \n",
    "    # 获取完整的当前时间\n",
    "    now = datetime.now()\n",
    "    # 获取当前的时间属于星期几，返回字符串，例如 'Mon'\n",
    "    now_weekday = datetime.now().strftime('%a')\n",
    "    # 找出当前周中周几的索引，便于检索该天的课程信息\n",
    "    extract_index = (room_table['Weekday'].values == now_weekday)\n",
    "    \n",
    "    # 找出当天的room_table信息\n",
    "    now_room_table = room_table.loc[extract_index]\n",
    "    \n",
    "    # 找出room_talbe表中这一天的课程ID信息，pd.Series 格式\n",
    "    now_course_id   = now_room_table['Course Class ID']\n",
    "    # 找出room_talbe表中这一天的课程Name信息，pd.Series 格式\n",
    "    now_course_name = room_table['Course Name']\n",
    "    # 找出room_talbe表中这一天的课程的开始时间，pd.Series 格式\n",
    "    now_course_start = room_table['Time Start']\n",
    "    # 找出room_talbe表中这一天的课程的结束时间，pd.Series 格式\n",
    "    now_course_end   = room_table['Time End']\n",
    "    \n",
    "    \n",
    "    # 4. 判断今天是否有补课\n",
    "    # 遍历 ['Make up lessons Date'] 字段，与当前日期相比，查看是否需要补课\n",
    "    # 返回需要补课的信息 ['Make up lessons Schedule'] 等\n",
    "    # 找出au_table中对应的字段\n",
    "    au_info_makeup = au_info[['Make up lessons ID', \n",
    "                              'Original lessons Date', \n",
    "                              'Make up lessons Date',\n",
    "                              'Make up lessons Week', \n",
    "                              'Make up lessons Weekday',\n",
    "                              'Make up lessons Schedule',\n",
    "                              'Make up lessons Description']]\n",
    "    \n",
    "    # 截取不包含NaN值的au_info_makeup，DataFrame格式\n",
    "    bool_makeup_lessons = [(lesson_id is not np.nan) for lesson_id in au_info['Make up lessons ID']]\n",
    "    makeup_lessons = au_info_makeup[bool_makeup_lessons]\n",
    "\n",
    "    makeup_id = makeup_lessons['Make up lessons ID']\n",
    "    original_date = makeup_lessons['Original lessons Date']\n",
    "    makeup_date = makeup_lessons['Make up lessons Date']\n",
    "    makeup_week = makeup_lessons['Make up lessons Week']\n",
    "    makeup_schedule = makeup_lessons['Make up lessons Schedule']\n",
    "    makeup_weekday = makeup_lessons['Make up lessons Weekday']\n",
    "    \n",
    "    # 补课信息字典\n",
    "    makeup_lessons_info = {}\n",
    "    for idx, make_date in enumerate(makeup_date):\n",
    "        if make_date == judg_time_ymd:\n",
    "            makeup_lessons_info[idx] = makeup_lessons.iloc[idx, :].to_dict()\n",
    "    \n",
    "    if len(makeup_lessons_info) != 0:\n",
    "        is_now_makeup = True\n",
    "        print(f'[INFO] {judg_time_ymd} There is a make-up class today!')\n",
    "    else:\n",
    "        print(f'[INFO] {judg_time_ymd} There is not a make-up class today!')\n",
    "               \n",
    "            \n",
    "    # 定义考勤时刻列表\n",
    "    att_start_list = []\n",
    "    att_end_list = []\n",
    "    \n",
    "    # 获取有课的课程信息，嵌套dict格式\n",
    "    now_course_dict = {}\n",
    "    \n",
    "    # 换课列表，包含当天换课的课程id\n",
    "    swap_lessons_info = {}\n",
    "    \n",
    "    # 如果不是假期，则进行下一步判断\n",
    "    if not is_now_holiday:\n",
    "        # 2. 判断今天是否有课\n",
    "        # 判断当日课程id列表中，是否存在不是nan值的课程（即有课的课程）\n",
    "        # 例如，返回值形式为 [True, True, True, True, True, False]\n",
    "        bool_day_course = [(course_id is not np.nan) for course_id in now_course_id]\n",
    "\n",
    "        # 计算bool_day_course列表中唯一值的个数\n",
    "        len_bool_day_course = len(np.unique(bool_day_course))\n",
    "        # case1: 如果=2，则说明有课，即包含True（有课）和False（无课）\n",
    "        # case2: 如果=1，则有两种情况，全天无课（False），全天有课（True）\n",
    "        # 第一种情况表示该天有课但不满课；第二种情况表示该天满课\n",
    "        if len_bool_day_course == 2 or np.unique(bool_day_course)[0] == True:\n",
    "            print(f'[INFO] {judg_time_ymd} There are classes today!')\n",
    "            \n",
    "            # 有课标志位设置为True\n",
    "            is_now_course = True\n",
    "            \n",
    "            # 获取有课的课程信息，DataFrame格式\n",
    "            now_course_df = now_room_table[bool_day_course]\n",
    "            \n",
    "            # 遍历课程信息的df，逐行构造字典\n",
    "            for idx in range(len(now_course_df)):\n",
    "                now_course_dict[f'Lesson {idx + 1}'] = now_course_df.loc[idx].to_dict()\n",
    "                \n",
    "            # 3. 判断当前课程中是否存在被调换时间的课程\n",
    "            # 根据原始课程的日期，所属周，weekday和课程ID进行查找\n",
    "            for key in now_course_dict.keys():\n",
    "                # 获取第key节课的信息，字典格式\n",
    "                schedule = now_course_dict[key]\n",
    "                for lesson_id, orig_date, m_date, m_week, m_weekday, m_schedule in zip(makeup_id, \n",
    "                                                                                       original_date, \n",
    "                                                                                       makeup_date,\n",
    "                                                                                       makeup_week,\n",
    "                                                                                       makeup_weekday,\n",
    "                                                                                       makeup_schedule):\n",
    "                    \n",
    "#                     print(schedule['Course Class ID'], schedule['Current Week'], schedule['Weekday'])\n",
    "#                     print(lesson_id, m_week, m_weekday)\n",
    "#                     print('-' * 32)\n",
    "                    \n",
    "                    if  (schedule['Course Class ID'] == lesson_id) and (schedule['Current Week'] == m_week) and (schedule['Weekday'] == m_weekday):\n",
    "                        swap_lessons_info[lesson_id] = [orig_date, m_date, m_week, m_weekday, m_schedule]\n",
    "                        \n",
    "                        is_now_swap = True\n",
    "            \n",
    "            print(f'[INFO] {judg_time_ymd} 今天需要换课的课程包括：{swap_lessons_info}')\n",
    "            \n",
    "            # 如果补课信息不为空，将补课信息添加到now_course_dict列表\n",
    "            if len(makeup_lessons_info) != 0:\n",
    "                # 待补充\n",
    "                pass\n",
    "\n",
    "        # 全天无课\n",
    "        else:\n",
    "            # 如果补课信息为空\n",
    "            if len(makeup_lessons_info) == 0:\n",
    "                is_now_course = False\n",
    "                print(f'[INFO] {judg_time_ymd} No classes all day today!')\n",
    "            \n",
    "            # 补课处理\n",
    "            # 如果补课信息不为空，将补课信息添加到now_course_dict列表\n",
    "            else:\n",
    "                # 待补充\n",
    "                pass\n",
    "            \n",
    "        # 获取当前时刻需要考勤的时刻列表\n",
    "        for start, end in zip(now_course_df['Time Start'], now_course_df['Time End']):\n",
    "            att_start_list.append(start)\n",
    "            att_end_list.append(end)\n",
    "\n",
    "    else:\n",
    "        print('[INFO] Happy Holidays!')\n",
    "        \n",
    "    return is_now_course, now_course_df, swap_lessons_info, makeup_lessons_info, att_start_list, att_end_list"
   ]
  },
  {
   "cell_type": "code",
   "execution_count": 320,
   "id": "1afc1675",
   "metadata": {},
   "outputs": [
    {
     "name": "stdout",
     "output_type": "stream",
     "text": [
      "[INFO] 2021-05-24 00:00:00 is not Holiday!\n",
      "[INFO] 2021-05-24 There is a make-up class today!\n",
      "[INFO] 2021-05-24 There are classes today!\n",
      "[INFO] 2021-05-24 今天需要换课的课程包括：{'DL2020001': [Timestamp('2021-03-22 00:00:00'), Timestamp('2021-05-24 00:00:00'), 13.0, 'Mon', '3--4']}\n"
     ]
    },
    {
     "data": {
      "text/plain": [
       "(True,\n",
       "   Building  Classroom Schedule Time Start  Time End Course Class ID  \\\n",
       " 0        A        101     1-2节   08:00:00  10:05:00       ML2020001   \n",
       " 1        A        101     3-4节   10:05:00  12:00:00       DL2020001   \n",
       " 2        A        101     5-6节   14:00:00  15:35:00       CV2020001   \n",
       " 3        A        101     7-8节   15:55:00  17:35:00       CI2020001   \n",
       " 4        A        101    9-10节   18:00:00  19:35:00       DM2020001   \n",
       " \n",
       "              Course Name      Class week  Current Week Weekday  \n",
       " 0       Machine Learning  01--08, 10--17            13     Mon  \n",
       " 1          Deep Learning          01--16            13     Mon  \n",
       " 2        Computer Vision  01--10, 12--15            13     Mon  \n",
       " 3  Computer Intelligence          01--16            13     Mon  \n",
       " 4            Data Mining          01--18            13     Mon  ,\n",
       " {'DL2020001': [Timestamp('2021-03-22 00:00:00'),\n",
       "   Timestamp('2021-05-24 00:00:00'),\n",
       "   13.0,\n",
       "   'Mon',\n",
       "   '3--4']},\n",
       " {1: {'Make up lessons ID': 'DL2020001',\n",
       "   'Original lessons Date': Timestamp('2021-03-22 00:00:00'),\n",
       "   'Make up lessons Date': Timestamp('2021-05-24 00:00:00'),\n",
       "   'Make up lessons Week': 13.0,\n",
       "   'Make up lessons Weekday': 'Mon',\n",
       "   'Make up lessons Schedule': '3--4',\n",
       "   'Make up lessons Description': nan}},\n",
       " [datetime.time(8, 0),\n",
       "  datetime.time(10, 5),\n",
       "  datetime.time(14, 0),\n",
       "  datetime.time(15, 55),\n",
       "  datetime.time(18, 0)],\n",
       " [datetime.time(10, 5),\n",
       "  datetime.time(12, 0),\n",
       "  datetime.time(15, 35),\n",
       "  datetime.time(17, 35),\n",
       "  datetime.time(19, 35)])"
      ]
     },
     "execution_count": 320,
     "metadata": {},
     "output_type": "execute_result"
    }
   ],
   "source": [
    "get_course_attendance_info(au_info, room_table)"
   ]
  },
  {
   "cell_type": "code",
   "execution_count": 298,
   "id": "33dfa7dc",
   "metadata": {},
   "outputs": [
    {
     "name": "stdout",
     "output_type": "stream",
     "text": [
      "[INFO] 2021-05-24 00:00:00 is not Holiday!\n",
      "[INFO] 2021-05-24 00:00:00 There is a make-up class today!\n",
      "[INFO] 2021-05-24 00:00:00 There are classes today!\n",
      "[INFO] 2021-05-24 00:00:00 今天需要换课的课程包括：{'DL2020001': [Timestamp('2021-03-22 00:00:00'), Timestamp('2021-05-24 00:00:00'), 13.0, 'Mon', '3--4']}\n"
     ]
    }
   ],
   "source": [
    "is_now_course, \\\n",
    "now_course_df, \\\n",
    "swap_lessons_info, \\\n",
    "makeup_lessons_info, \\\n",
    "att_start_list, att_end_list = get_course_attendance_time(au_info, room_table)"
   ]
  },
  {
   "cell_type": "code",
   "execution_count": 299,
   "id": "cbc6e391",
   "metadata": {},
   "outputs": [
    {
     "data": {
      "text/plain": [
       "True"
      ]
     },
     "execution_count": 299,
     "metadata": {},
     "output_type": "execute_result"
    }
   ],
   "source": [
    "is_now_course"
   ]
  },
  {
   "cell_type": "code",
   "execution_count": 300,
   "id": "94dcca13",
   "metadata": {},
   "outputs": [
    {
     "data": {
      "text/html": [
       "<div>\n",
       "<style scoped>\n",
       "    .dataframe tbody tr th:only-of-type {\n",
       "        vertical-align: middle;\n",
       "    }\n",
       "\n",
       "    .dataframe tbody tr th {\n",
       "        vertical-align: top;\n",
       "    }\n",
       "\n",
       "    .dataframe thead th {\n",
       "        text-align: right;\n",
       "    }\n",
       "</style>\n",
       "<table border=\"1\" class=\"dataframe\">\n",
       "  <thead>\n",
       "    <tr style=\"text-align: right;\">\n",
       "      <th></th>\n",
       "      <th>Building</th>\n",
       "      <th>Classroom</th>\n",
       "      <th>Schedule</th>\n",
       "      <th>Time Start</th>\n",
       "      <th>Time End</th>\n",
       "      <th>Course Class ID</th>\n",
       "      <th>Course Name</th>\n",
       "      <th>Class week</th>\n",
       "      <th>Current Week</th>\n",
       "      <th>Weekday</th>\n",
       "    </tr>\n",
       "  </thead>\n",
       "  <tbody>\n",
       "    <tr>\n",
       "      <th>0</th>\n",
       "      <td>A</td>\n",
       "      <td>101</td>\n",
       "      <td>1-2节</td>\n",
       "      <td>08:00:00</td>\n",
       "      <td>10:05:00</td>\n",
       "      <td>ML2020001</td>\n",
       "      <td>Machine Learning</td>\n",
       "      <td>01--08, 10--17</td>\n",
       "      <td>13</td>\n",
       "      <td>Mon</td>\n",
       "    </tr>\n",
       "    <tr>\n",
       "      <th>1</th>\n",
       "      <td>A</td>\n",
       "      <td>101</td>\n",
       "      <td>3-4节</td>\n",
       "      <td>10:05:00</td>\n",
       "      <td>12:00:00</td>\n",
       "      <td>DL2020001</td>\n",
       "      <td>Deep Learning</td>\n",
       "      <td>01--16</td>\n",
       "      <td>13</td>\n",
       "      <td>Mon</td>\n",
       "    </tr>\n",
       "    <tr>\n",
       "      <th>2</th>\n",
       "      <td>A</td>\n",
       "      <td>101</td>\n",
       "      <td>5-6节</td>\n",
       "      <td>14:00:00</td>\n",
       "      <td>15:35:00</td>\n",
       "      <td>CV2020001</td>\n",
       "      <td>Computer Vision</td>\n",
       "      <td>01--10, 12--15</td>\n",
       "      <td>13</td>\n",
       "      <td>Mon</td>\n",
       "    </tr>\n",
       "    <tr>\n",
       "      <th>3</th>\n",
       "      <td>A</td>\n",
       "      <td>101</td>\n",
       "      <td>7-8节</td>\n",
       "      <td>15:55:00</td>\n",
       "      <td>17:35:00</td>\n",
       "      <td>CI2020001</td>\n",
       "      <td>Computer Intelligence</td>\n",
       "      <td>01--16</td>\n",
       "      <td>13</td>\n",
       "      <td>Mon</td>\n",
       "    </tr>\n",
       "    <tr>\n",
       "      <th>4</th>\n",
       "      <td>A</td>\n",
       "      <td>101</td>\n",
       "      <td>9-10节</td>\n",
       "      <td>18:00:00</td>\n",
       "      <td>19:35:00</td>\n",
       "      <td>DM2020001</td>\n",
       "      <td>Data Mining</td>\n",
       "      <td>01--18</td>\n",
       "      <td>13</td>\n",
       "      <td>Mon</td>\n",
       "    </tr>\n",
       "  </tbody>\n",
       "</table>\n",
       "</div>"
      ],
      "text/plain": [
       "  Building  Classroom Schedule Time Start  Time End Course Class ID  \\\n",
       "0        A        101     1-2节   08:00:00  10:05:00       ML2020001   \n",
       "1        A        101     3-4节   10:05:00  12:00:00       DL2020001   \n",
       "2        A        101     5-6节   14:00:00  15:35:00       CV2020001   \n",
       "3        A        101     7-8节   15:55:00  17:35:00       CI2020001   \n",
       "4        A        101    9-10节   18:00:00  19:35:00       DM2020001   \n",
       "\n",
       "             Course Name      Class week  Current Week Weekday  \n",
       "0       Machine Learning  01--08, 10--17            13     Mon  \n",
       "1          Deep Learning          01--16            13     Mon  \n",
       "2        Computer Vision  01--10, 12--15            13     Mon  \n",
       "3  Computer Intelligence          01--16            13     Mon  \n",
       "4            Data Mining          01--18            13     Mon  "
      ]
     },
     "execution_count": 300,
     "metadata": {},
     "output_type": "execute_result"
    }
   ],
   "source": [
    "now_course_df"
   ]
  },
  {
   "cell_type": "code",
   "execution_count": 301,
   "id": "1010795d",
   "metadata": {},
   "outputs": [
    {
     "data": {
      "text/plain": [
       "{'DL2020001': [Timestamp('2021-03-22 00:00:00'),\n",
       "  Timestamp('2021-05-24 00:00:00'),\n",
       "  13.0,\n",
       "  'Mon',\n",
       "  '3--4']}"
      ]
     },
     "execution_count": 301,
     "metadata": {},
     "output_type": "execute_result"
    }
   ],
   "source": [
    "swap_lessons_info"
   ]
  },
  {
   "cell_type": "code",
   "execution_count": 302,
   "id": "0085d362",
   "metadata": {},
   "outputs": [
    {
     "data": {
      "text/plain": [
       "{1: {'Make up lessons ID': 'DL2020001',\n",
       "  'Original lessons Date': Timestamp('2021-03-22 00:00:00'),\n",
       "  'Make up lessons Date': Timestamp('2021-05-24 00:00:00'),\n",
       "  'Make up lessons Week': 13.0,\n",
       "  'Make up lessons Weekday': 'Mon',\n",
       "  'Make up lessons Schedule': '3--4',\n",
       "  'Make up lessons Description': nan}}"
      ]
     },
     "execution_count": 302,
     "metadata": {},
     "output_type": "execute_result"
    }
   ],
   "source": [
    "makeup_lessons_info"
   ]
  },
  {
   "cell_type": "code",
   "execution_count": 303,
   "id": "1209ce75",
   "metadata": {},
   "outputs": [
    {
     "data": {
      "text/plain": [
       "[datetime.time(8, 0),\n",
       " datetime.time(10, 5),\n",
       " datetime.time(14, 0),\n",
       " datetime.time(15, 55),\n",
       " datetime.time(18, 0)]"
      ]
     },
     "execution_count": 303,
     "metadata": {},
     "output_type": "execute_result"
    }
   ],
   "source": [
    "att_start_list"
   ]
  },
  {
   "cell_type": "code",
   "execution_count": 304,
   "id": "53f236b2",
   "metadata": {},
   "outputs": [
    {
     "data": {
      "text/plain": [
       "[datetime.time(10, 5),\n",
       " datetime.time(12, 0),\n",
       " datetime.time(15, 35),\n",
       " datetime.time(17, 35),\n",
       " datetime.time(19, 35)]"
      ]
     },
     "execution_count": 304,
     "metadata": {},
     "output_type": "execute_result"
    }
   ],
   "source": [
    "att_end_list"
   ]
  },
  {
   "cell_type": "code",
   "execution_count": 398,
   "id": "b6fb6993",
   "metadata": {},
   "outputs": [
    {
     "data": {
      "text/plain": [
       "0    08:30:00\n",
       "1    10:25:00\n",
       "2    14:00:00\n",
       "3    15:55:00\n",
       "4    18:00:00\n",
       "5    19:55:00\n",
       "Name: Attendance period End, dtype: object"
      ]
     },
     "execution_count": 398,
     "metadata": {},
     "output_type": "execute_result"
    }
   ],
   "source": [
    "# 根据获取的课程信息，当前时刻，以及au_info中的Attendance period End字段\n",
    "# 自动设置考勤时间，避免了手动设置的繁琐\n",
    "att_end = au_info['Attendance period End']\n",
    "att_end"
   ]
  },
  {
   "cell_type": "code",
   "execution_count": 399,
   "id": "4bbe9888",
   "metadata": {},
   "outputs": [
    {
     "data": {
      "text/plain": [
       "datetime.time(8, 30)"
      ]
     },
     "execution_count": 399,
     "metadata": {},
     "output_type": "execute_result"
    }
   ],
   "source": [
    "att_end[0]"
   ]
  },
  {
   "cell_type": "code",
   "execution_count": 400,
   "id": "caf36080",
   "metadata": {},
   "outputs": [
    {
     "data": {
      "text/plain": [
       "8"
      ]
     },
     "execution_count": 400,
     "metadata": {},
     "output_type": "execute_result"
    }
   ],
   "source": [
    "att_end[0].hour"
   ]
  },
  {
   "cell_type": "code",
   "execution_count": 401,
   "id": "24a67067",
   "metadata": {},
   "outputs": [
    {
     "data": {
      "text/plain": [
       "30"
      ]
     },
     "execution_count": 401,
     "metadata": {},
     "output_type": "execute_result"
    }
   ],
   "source": [
    "att_end[0].minute"
   ]
  },
  {
   "cell_type": "code",
   "execution_count": 402,
   "id": "95e447be",
   "metadata": {},
   "outputs": [
    {
     "data": {
      "text/plain": [
       "datetime.datetime(2021, 5, 24, 19, 29, 4, 970383)"
      ]
     },
     "execution_count": 402,
     "metadata": {},
     "output_type": "execute_result"
    }
   ],
   "source": [
    "# 获取完整的时间格式\n",
    "now = datetime.now()\n",
    "now"
   ]
  },
  {
   "cell_type": "code",
   "execution_count": 403,
   "id": "9268a6d1",
   "metadata": {},
   "outputs": [
    {
     "data": {
      "text/plain": [
       "datetime.date(2021, 5, 24)"
      ]
     },
     "execution_count": 403,
     "metadata": {},
     "output_type": "execute_result"
    }
   ],
   "source": [
    "now.date()"
   ]
  },
  {
   "cell_type": "code",
   "execution_count": 404,
   "id": "e5b728b2",
   "metadata": {},
   "outputs": [
    {
     "data": {
      "text/plain": [
       "datetime.time(19, 29, 4, 970383)"
      ]
     },
     "execution_count": 404,
     "metadata": {},
     "output_type": "execute_result"
    }
   ],
   "source": [
    "now.time()"
   ]
  },
  {
   "cell_type": "code",
   "execution_count": 405,
   "id": "4fd4bcc0",
   "metadata": {},
   "outputs": [],
   "source": [
    "# 获取完整的时间格式\n",
    "now = datetime.now()\n",
    "# 分别获取当前的年，月，日，时，分，秒，均为int类型\n",
    "judg_time = now\n",
    "now_y = judg_time.year\n",
    "now_m = judg_time.month\n",
    "now_d = judg_time.day\n",
    "\n",
    "# 用于存放包含年月日的datetime对象\n",
    "attd_start_time_list = []\n",
    "attd_end_time_list   = []\n",
    "\n",
    "for attd_start_time, attd_end_time in zip(au_info['Attendance period Start'], au_info['Attendance period End']):\n",
    "    attd_sh = attd_start_time.hour\n",
    "    attd_sm = attd_start_time.minute\n",
    "    attd_ss = attd_start_time.second\n",
    "    \n",
    "    attd_eh = attd_end_time.hour\n",
    "    attd_em = attd_end_time.minute\n",
    "    attd_es = attd_end_time.second\n",
    "    # 转换为datetime.datetime类型的对象才能直接进行相加减运算\n",
    "    # 因此，将au_info表格中的只有时分的数据添加年月日，并生成新的列表\n",
    "    attd_start_time_list.append(datetime(now_y, now_m, now_d, attd_sh, attd_sm, attd_ss))\n",
    "    attd_end_time_list.append(  datetime(now_y, now_m, now_d, attd_eh, attd_em, attd_es))"
   ]
  },
  {
   "cell_type": "code",
   "execution_count": 406,
   "id": "e98cbd26",
   "metadata": {},
   "outputs": [
    {
     "data": {
      "text/plain": [
       "[datetime.datetime(2021, 5, 24, 7, 0),\n",
       " datetime.datetime(2021, 5, 24, 10, 5),\n",
       " datetime.datetime(2021, 5, 24, 13, 0),\n",
       " datetime.datetime(2021, 5, 24, 15, 35),\n",
       " datetime.datetime(2021, 5, 24, 17, 30),\n",
       " datetime.datetime(2021, 5, 24, 19, 35)]"
      ]
     },
     "execution_count": 406,
     "metadata": {},
     "output_type": "execute_result"
    }
   ],
   "source": [
    "attd_start_time_list"
   ]
  },
  {
   "cell_type": "code",
   "execution_count": 407,
   "id": "fcf257fc",
   "metadata": {},
   "outputs": [
    {
     "data": {
      "text/plain": [
       "[datetime.datetime(2021, 5, 24, 8, 30),\n",
       " datetime.datetime(2021, 5, 24, 10, 25),\n",
       " datetime.datetime(2021, 5, 24, 14, 0),\n",
       " datetime.datetime(2021, 5, 24, 15, 55),\n",
       " datetime.datetime(2021, 5, 24, 18, 0),\n",
       " datetime.datetime(2021, 5, 24, 19, 55)]"
      ]
     },
     "execution_count": 407,
     "metadata": {},
     "output_type": "execute_result"
    }
   ],
   "source": [
    "attd_end_time_list"
   ]
  },
  {
   "cell_type": "code",
   "execution_count": 389,
   "id": "56fbd5d6",
   "metadata": {},
   "outputs": [
    {
     "data": {
      "text/plain": [
       "86400"
      ]
     },
     "execution_count": 389,
     "metadata": {},
     "output_type": "execute_result"
    }
   ],
   "source": [
    "60 * 60 * 24"
   ]
  },
  {
   "cell_type": "markdown",
   "id": "74442bc4",
   "metadata": {},
   "source": [
    "## Idea1：根据课程包含的学生表自动获取课程的考勤时间\n",
    "\n",
    "1. 获取当前时间，并与列表中的时间对比\n",
    "2. 查看距离当前时刻最近的一节课是否有课 （不为NaN）\n",
    "3. 如果有课，则自动设置考勤时间\n",
    "\n",
    "- 1）正常：规定时间内签到\n",
    "    - 每天的上午第一节课（两小节1--2），从教学楼开门时间（假设为7:00）到上课时间之间签到均为正常\n",
    "    - 每天的上午第一节课下课到第二节上课之间签到为正常\n",
    "    - 每天的下午第一节课前一个小时到第一节课上课之间签到为正常\n",
    "    - 其余时间均为上一节课下课与下一节课上课之间签到为正常\n",
    "    \n",
    "- 2）迟到：上课之后45分钟内\n",
    "- 3）旷课：上课超过45分钟\n",
    "- 4）请假：通过销假系统自动读取，或者老师手动填写"
   ]
  },
  {
   "cell_type": "markdown",
   "id": "d2af4b42",
   "metadata": {},
   "source": [
    "## Idea2：手动设定考勤时间（简单）\n",
    "- 1）正常：考勤时间设定之前的一小时内签到\n",
    "- 2）迟到：上课之后45分钟内\n",
    "- 3）其他：上课超过45分钟\n",
    "- 4）旷课：上课时间未到\n",
    "- 5）请假：通过销假系统自动读取，或者老师手动填写"
   ]
  },
  {
   "cell_type": "code",
   "execution_count": 461,
   "id": "9a10ad5b",
   "metadata": {},
   "outputs": [],
   "source": [
    "def attendance_check(set_time = '19:00:00'):\n",
    "    \"\"\"\n",
    "    考勤状态判断，根据指定的时间判断考勤状态\n",
    "    ----\n",
    "    param set_time: = '19:00:00'\n",
    "    \"\"\"\n",
    "    ########################自定义参数######################\n",
    "    # 正常：考勤时间设定之前的一小时内（3600s）签到\n",
    "    normal_span = 60 * 60  # seconds\n",
    "    # 设定一节课时长\n",
    "    course_time = 95  # minutes\n",
    "    # 设定上课多长时间认为是迟到\n",
    "    late_span = 45\n",
    "    ########################################################\n",
    "    \n",
    "    # 获取完整的时间格式\n",
    "    now = datetime.now()\n",
    "    # 分别获取当前的年，月，日，时，分，秒，均为int类型\n",
    "    judg_time = now\n",
    "    now_y = judg_time.year\n",
    "    now_m = judg_time.month\n",
    "    now_d = judg_time.day\n",
    "\n",
    "    # 定义考勤标识符\n",
    "    att_state = '正常'\n",
    "    \n",
    "    # 格式化考勤时间\n",
    "    att_time = datetime.strptime(f'{now_y}-{now_m}-{now_d} {set_time}', '%Y-%m-%d %H:%M:%S')\n",
    "    # 计算当前时间与设定时间的差值\n",
    "    time_diff = now - att_time\n",
    "    # print(time_diff)\n",
    "    time_diff_days, time_diff_seconds = time_diff.days, time_diff.seconds\n",
    "    # print(time_diff_days, time_diff_seconds)\n",
    "\n",
    "    # 如果time_diff_days为负，说明还未到考勤时间，此时计算距离考勤的时间\n",
    "    if time_diff_days < 0:\n",
    "        # 一天的秒数减去time_diff_days\n",
    "        time_span_att = 60 * 60 * 24 - time_diff_seconds\n",
    "        \n",
    "\n",
    "        if time_span_att < normal_span:\n",
    "            att_state = '正常'\n",
    "        else:\n",
    "            print(f'[INFO] 无效！请在考勤时间设定之前的一小时内签到！距离考勤时间设定还有{round((time_span_att - 60*60)/60, 2)}分钟！')\n",
    "\n",
    "    # 如果time_diff_days为正，说明考勤时间已过，此时判断是否为迟到或旷课\n",
    "    else:\n",
    "        \n",
    "        # 上课45分钟内，算迟到\n",
    "        if time_diff_seconds - late_span * 60 <= 0:\n",
    "            att_state = '迟到'\n",
    "        elif (time_diff_seconds > late_span * 60) and (time_diff_seconds <= course_time * 60):\n",
    "            att_state = '其他'\n",
    "            print('[INFO] 已经超过迟到时间范围，请联系老师处理!')\n",
    "        else:\n",
    "            att_state = '旷课'\n",
    "\n",
    "    print(f'[INFO] 时间设定：{att_time}，考勤时间：{now}，考勤状态：{att_state}')\n",
    "    \n",
    "    return now, att_state"
   ]
  },
  {
   "cell_type": "code",
   "execution_count": 466,
   "id": "faf9161e",
   "metadata": {},
   "outputs": [
    {
     "data": {
      "text/plain": [
       "['D:\\\\Github\\\\Face-Recognition-Class-Attendance-System\\\\03 Dev',\n",
       " 'D:\\\\anaconda\\\\envs\\\\tensorflow\\\\python38.zip',\n",
       " 'D:\\\\anaconda\\\\envs\\\\tensorflow\\\\DLLs',\n",
       " 'D:\\\\anaconda\\\\envs\\\\tensorflow\\\\lib',\n",
       " 'D:\\\\anaconda\\\\envs\\\\tensorflow',\n",
       " '',\n",
       " 'C:\\\\Users\\\\34123\\\\AppData\\\\Roaming\\\\Python\\\\Python38\\\\site-packages',\n",
       " 'D:\\\\anaconda\\\\envs\\\\tensorflow\\\\lib\\\\site-packages',\n",
       " 'D:\\\\anaconda\\\\envs\\\\tensorflow\\\\lib\\\\site-packages\\\\win32',\n",
       " 'D:\\\\anaconda\\\\envs\\\\tensorflow\\\\lib\\\\site-packages\\\\win32\\\\lib',\n",
       " 'D:\\\\anaconda\\\\envs\\\\tensorflow\\\\lib\\\\site-packages\\\\Pythonwin',\n",
       " 'D:\\\\anaconda\\\\envs\\\\tensorflow\\\\lib\\\\site-packages\\\\IPython\\\\extensions',\n",
       " 'C:\\\\Users\\\\34123\\\\.ipython',\n",
       " 'D:\\\\Github\\\\Face-Recognition-Class-Attendance-System\\\\03 Dev',\n",
       " 'D:\\\\Github\\\\Face-Recognition-Class-Attendance-System\\\\03 Dev']"
      ]
     },
     "execution_count": 466,
     "metadata": {},
     "output_type": "execute_result"
    }
   ],
   "source": [
    "import os\n",
    "from sys import path\n",
    "\n",
    "# 将当前文件路径添加到环境路径\n",
    "path.append(os.getcwd())\n",
    "path"
   ]
  },
  {
   "cell_type": "code",
   "execution_count": 462,
   "id": "90a9ec79",
   "metadata": {},
   "outputs": [
    {
     "name": "stdout",
     "output_type": "stream",
     "text": [
      "[INFO] 时间设定：2021-05-24 19:00:00，考勤时间：2021-05-24 21:33:04.755798，考勤状态：旷课\n"
     ]
    },
    {
     "data": {
      "text/plain": [
       "(datetime.datetime(2021, 5, 24, 21, 33, 4, 755798), '旷课')"
      ]
     },
     "execution_count": 462,
     "metadata": {},
     "output_type": "execute_result"
    }
   ],
   "source": [
    "attendance_check()"
   ]
  },
  {
   "cell_type": "code",
   "execution_count": 424,
   "id": "9f806b19",
   "metadata": {},
   "outputs": [
    {
     "name": "stdout",
     "output_type": "stream",
     "text": [
      "13:42:30.287558 -1 day, 11:47:29.712442\n",
      "0 49350\n",
      "-1 42449\n",
      "10:37:30.287558 -1 day, 13:42:29.712442\n",
      "0 38250\n",
      "-1 49349\n",
      "7:42:30.287558 -1 day, 17:17:29.712442\n",
      "0 27750\n",
      "-1 62249\n",
      "5:07:30.287558 -1 day, 19:12:29.712442\n",
      "0 18450\n",
      "-1 69149\n",
      "3:12:30.287558 -1 day, 21:17:29.712442\n",
      "0 11550\n",
      "-1 76649\n",
      "1:07:30.287558 -1 day, 23:12:29.712442\n",
      "0 4050\n",
      "-1 83549\n"
     ]
    }
   ],
   "source": [
    "now = datetime.now()\n",
    "\n",
    "for attd_start_time, attd_end_time in zip(attd_start_time_list, \n",
    "                                          attd_end_time_list):\n",
    "    stime_diff = now - attd_start_time\n",
    "    etime_diff = attd_end_time - now\n",
    "    s_days, s_seconds = stime_diff.days, stime_diff.seconds\n",
    "    e_days, e_seconds = etime_diff.days, etime_diff.seconds\n",
    "    \n",
    "    print(stime_diff, etime_diff)\n",
    "    print(s_days, s_seconds)\n",
    "    print(e_days, e_seconds)"
   ]
  },
  {
   "cell_type": "code",
   "execution_count": 380,
   "id": "921b6ffb",
   "metadata": {},
   "outputs": [
    {
     "data": {
      "text/plain": [
       "0"
      ]
     },
     "execution_count": 380,
     "metadata": {},
     "output_type": "execute_result"
    }
   ],
   "source": [
    "(datetime.now() - attd_end_time_list[0]).days"
   ]
  },
  {
   "cell_type": "code",
   "execution_count": 409,
   "id": "9e5a6377",
   "metadata": {},
   "outputs": [
    {
     "data": {
      "text/plain": [
       "(-1, 85279)"
      ]
     },
     "execution_count": 409,
     "metadata": {},
     "output_type": "execute_result"
    }
   ],
   "source": [
    "time_diff = datetime.now() - attd_end_time_list[-1]\n",
    "days, seconds = time_diff.days, time_diff.seconds\n",
    "\n",
    "days, seconds"
   ]
  },
  {
   "cell_type": "code",
   "execution_count": 391,
   "id": "b656ac26",
   "metadata": {},
   "outputs": [
    {
     "data": {
      "text/plain": [
       "20.933333333333334"
      ]
     },
     "execution_count": 391,
     "metadata": {},
     "output_type": "execute_result"
    }
   ],
   "source": [
    "seconds / 60"
   ]
  },
  {
   "cell_type": "code",
   "execution_count": 390,
   "id": "29b14b90",
   "metadata": {},
   "outputs": [
    {
     "data": {
      "text/plain": [
       "datetime.timedelta(seconds=1262, microseconds=623616)"
      ]
     },
     "execution_count": 390,
     "metadata": {},
     "output_type": "execute_result"
    }
   ],
   "source": [
    "datetime.now() - attd_end_time_list[-2]"
   ]
  },
  {
   "cell_type": "code",
   "execution_count": 364,
   "id": "a8e77a81",
   "metadata": {},
   "outputs": [
    {
     "data": {
      "text/plain": [
       "79176"
      ]
     },
     "execution_count": 364,
     "metadata": {},
     "output_type": "execute_result"
    }
   ],
   "source": [
    "now = datetime.now()\n",
    "(now - attd_end_time_list[-1]).seconds"
   ]
  },
  {
   "cell_type": "code",
   "execution_count": 230,
   "id": "b5f57241",
   "metadata": {},
   "outputs": [
    {
     "data": {
      "text/plain": [
       "{'Building': 'A',\n",
       " 'Classroom': 101,\n",
       " 'Schedule': '1-2节',\n",
       " 'Time Start': datetime.time(8, 0),\n",
       " 'Time End': datetime.time(10, 5),\n",
       " 'Course Class ID': 'ML2020001',\n",
       " 'Course Name': 'Machine Learning',\n",
       " 'Class week': '01--08, 10--17',\n",
       " 'Current Week': 1,\n",
       " 'Weekday': 'Mon'}"
      ]
     },
     "execution_count": 230,
     "metadata": {},
     "output_type": "execute_result"
    }
   ],
   "source": [
    "room_dict"
   ]
  },
  {
   "cell_type": "code",
   "execution_count": 192,
   "id": "d8879d7f",
   "metadata": {},
   "outputs": [
    {
     "data": {
      "text/plain": [
       "False"
      ]
     },
     "execution_count": 192,
     "metadata": {},
     "output_type": "execute_result"
    }
   ],
   "source": [
    "room_dict['Course Class ID'] == 'ML2020001' and False"
   ]
  },
  {
   "cell_type": "code",
   "execution_count": 180,
   "id": "863e2390",
   "metadata": {},
   "outputs": [
    {
     "data": {
      "text/plain": [
       "True"
      ]
     },
     "execution_count": 180,
     "metadata": {},
     "output_type": "execute_result"
    }
   ],
   "source": [
    "np.array([True,  True,  True]).any()"
   ]
  },
  {
   "cell_type": "code",
   "execution_count": 178,
   "id": "59182604",
   "metadata": {},
   "outputs": [
    {
     "data": {
      "text/plain": [
       "True"
      ]
     },
     "execution_count": 178,
     "metadata": {},
     "output_type": "execute_result"
    }
   ],
   "source": [
    "np.array([True,  True,  False]).any()"
   ]
  },
  {
   "cell_type": "code",
   "execution_count": 179,
   "id": "4f18332e",
   "metadata": {},
   "outputs": [
    {
     "data": {
      "text/plain": [
       "False"
      ]
     },
     "execution_count": 179,
     "metadata": {},
     "output_type": "execute_result"
    }
   ],
   "source": [
    "np.array([False,  False,  False]).any()"
   ]
  },
  {
   "cell_type": "code",
   "execution_count": 50,
   "id": "55539b22",
   "metadata": {},
   "outputs": [
    {
     "data": {
      "text/plain": [
       "datetime.datetime(2021, 5, 24, 1, 54, 18, 780962)"
      ]
     },
     "execution_count": 50,
     "metadata": {},
     "output_type": "execute_result"
    }
   ],
   "source": [
    "now = datetime.now()\n",
    "now"
   ]
  },
  {
   "cell_type": "code",
   "execution_count": 30,
   "id": "a7a40245",
   "metadata": {},
   "outputs": [
    {
     "data": {
      "text/plain": [
       "(2021, int)"
      ]
     },
     "execution_count": 30,
     "metadata": {},
     "output_type": "execute_result"
    }
   ],
   "source": [
    "now.year, type(now.year)"
   ]
  },
  {
   "cell_type": "code",
   "execution_count": 51,
   "id": "5f5de9db",
   "metadata": {},
   "outputs": [
    {
     "data": {
      "text/plain": [
       "(5, int)"
      ]
     },
     "execution_count": 51,
     "metadata": {},
     "output_type": "execute_result"
    }
   ],
   "source": [
    "now.month, type(now.month)"
   ]
  },
  {
   "cell_type": "code",
   "execution_count": 52,
   "id": "ddfff35e",
   "metadata": {},
   "outputs": [
    {
     "data": {
      "text/plain": [
       "(24, int)"
      ]
     },
     "execution_count": 52,
     "metadata": {},
     "output_type": "execute_result"
    }
   ],
   "source": [
    "now.day, type(now.day)"
   ]
  },
  {
   "cell_type": "code",
   "execution_count": 33,
   "id": "1e773a95",
   "metadata": {},
   "outputs": [
    {
     "data": {
      "text/plain": [
       "1"
      ]
     },
     "execution_count": 33,
     "metadata": {},
     "output_type": "execute_result"
    }
   ],
   "source": [
    "now.hour"
   ]
  },
  {
   "cell_type": "code",
   "execution_count": 34,
   "id": "fb5a5d9b",
   "metadata": {},
   "outputs": [
    {
     "data": {
      "text/plain": [
       "8"
      ]
     },
     "execution_count": 34,
     "metadata": {},
     "output_type": "execute_result"
    }
   ],
   "source": [
    "now.minute"
   ]
  },
  {
   "cell_type": "code",
   "execution_count": 35,
   "id": "34a2e26c",
   "metadata": {},
   "outputs": [
    {
     "data": {
      "text/plain": [
       "13"
      ]
     },
     "execution_count": 35,
     "metadata": {},
     "output_type": "execute_result"
    }
   ],
   "source": [
    "now.second"
   ]
  },
  {
   "cell_type": "code",
   "execution_count": 36,
   "id": "8816a46b",
   "metadata": {},
   "outputs": [
    {
     "data": {
      "text/plain": [
       "0    07:00:00\n",
       "1    10:05:00\n",
       "2    13:00:00\n",
       "3    15:35:00\n",
       "4    17:30:00\n",
       "5    19:35:00\n",
       "Name: Attendance period Start, dtype: object"
      ]
     },
     "execution_count": 36,
     "metadata": {},
     "output_type": "execute_result"
    }
   ],
   "source": [
    "# 一天中，考勤开始时间列表\n",
    "au_info['Attendance period Start']"
   ]
  },
  {
   "cell_type": "code",
   "execution_count": 37,
   "id": "da0d4ec1",
   "metadata": {},
   "outputs": [
    {
     "data": {
      "text/plain": [
       "[datetime.time(8, 0),\n",
       " datetime.time(10, 25),\n",
       " datetime.time(14, 0),\n",
       " datetime.time(15, 55),\n",
       " datetime.time(18, 0),\n",
       " datetime.time(19, 55)]"
      ]
     },
     "execution_count": 37,
     "metadata": {},
     "output_type": "execute_result"
    }
   ],
   "source": [
    "# 一天中，考勤开始时间列表\n",
    "list(au_info['Attendance period End'])"
   ]
  },
  {
   "cell_type": "code",
   "execution_count": 38,
   "id": "d3f74894",
   "metadata": {},
   "outputs": [
    {
     "data": {
      "text/plain": [
       "datetime.datetime(2021, 5, 24, 0, 0)"
      ]
     },
     "execution_count": 38,
     "metadata": {},
     "output_type": "execute_result"
    }
   ],
   "source": [
    "# 将指定时间转换为 datetime.datetime格式\n",
    "datetime(2021, 5, 24)"
   ]
  },
  {
   "cell_type": "code",
   "execution_count": 39,
   "id": "212116eb",
   "metadata": {},
   "outputs": [],
   "source": [
    "att_start_list = []\n",
    "att_end_list = []\n",
    "\n",
    "for start, end in zip(au_info['Attendance period Start'], au_info['Attendance period End']):\n",
    "    att_start_list.append(start)\n",
    "    att_end_list.append(end)"
   ]
  },
  {
   "cell_type": "code",
   "execution_count": 40,
   "id": "92854dbb",
   "metadata": {},
   "outputs": [
    {
     "data": {
      "text/plain": [
       "[datetime.time(7, 0),\n",
       " datetime.time(10, 5),\n",
       " datetime.time(13, 0),\n",
       " datetime.time(15, 35),\n",
       " datetime.time(17, 30),\n",
       " datetime.time(19, 35)]"
      ]
     },
     "execution_count": 40,
     "metadata": {},
     "output_type": "execute_result"
    }
   ],
   "source": [
    "att_start_list"
   ]
  },
  {
   "cell_type": "code",
   "execution_count": 41,
   "id": "1bfe9275",
   "metadata": {},
   "outputs": [
    {
     "data": {
      "text/plain": [
       "[datetime.time(8, 0),\n",
       " datetime.time(10, 25),\n",
       " datetime.time(14, 0),\n",
       " datetime.time(15, 55),\n",
       " datetime.time(18, 0),\n",
       " datetime.time(19, 55)]"
      ]
     },
     "execution_count": 41,
     "metadata": {},
     "output_type": "execute_result"
    }
   ],
   "source": [
    "att_end_list"
   ]
  },
  {
   "cell_type": "code",
   "execution_count": 42,
   "id": "50ad79f0",
   "metadata": {},
   "outputs": [
    {
     "data": {
      "text/plain": [
       "'01'"
      ]
     },
     "execution_count": 42,
     "metadata": {},
     "output_type": "execute_result"
    }
   ],
   "source": [
    "datetime.now().strftime('%H')"
   ]
  }
 ],
 "metadata": {
  "kernelspec": {
   "display_name": "Python 3",
   "language": "python",
   "name": "python3"
  },
  "language_info": {
   "codemirror_mode": {
    "name": "ipython",
    "version": 3
   },
   "file_extension": ".py",
   "mimetype": "text/x-python",
   "name": "python",
   "nbconvert_exporter": "python",
   "pygments_lexer": "ipython3",
   "version": "3.8.8"
  }
 },
 "nbformat": 4,
 "nbformat_minor": 5
}
